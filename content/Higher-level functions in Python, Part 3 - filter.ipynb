{
 "cells": [
  {
   "cell_type": "markdown",
   "metadata": {},
   "source": [
    "<img src=\"img/filter.png\" width=\"200\" align=\"right\">\n",
    "Python provides a few higher order (or functional programming) functions in the standard library that can be quite useful:\n",
    "\n",
    "* map\n",
    "* filter\n",
    "* reduce\n",
    "* lambda\n",
    "* list comprehensions\n",
    "\n",
    "<div align=\"right\"><i>Picture from <a href=\"https://netflix.github.io/\">Netflix OSS</a></i></div>\n",
    "\n",
    "This article series focuses on exploring these. In the previous article we've taken a look at the [`map`](higher-level-functions-python-map.html) and [`reduce`](higher-level-functions-python-reduce) functions, that take other functions as arguments. In this notebook, we'll learn more about the `filter` function in Python. Again, I will assume you already know about list expressions, (or more broadly, [generator expressions](https://nedbatchelder.com/blog/201605/generator_comprehensions.html))."
   ]
  },
  {
   "cell_type": "code",
   "execution_count": 1,
   "metadata": {
    "ExecuteTime": {
     "end_time": "2018-06-14T15:48:39.476543Z",
     "start_time": "2018-06-14T15:48:39.466543Z"
    }
   },
   "outputs": [
    {
     "name": "stdout",
     "output_type": "stream",
     "text": [
      "Help on class filter in module builtins:\n",
      "\n",
      "class filter(object)\n",
      " |  filter(function or None, iterable) --> filter object\n",
      " |  \n",
      " |  Return an iterator yielding those items of iterable for which function(item)\n",
      " |  is true. If function is None, return the items that are true.\n",
      " |  \n",
      " |  Methods defined here:\n",
      " |  \n",
      " |  __getattribute__(self, name, /)\n",
      " |      Return getattr(self, name).\n",
      " |  \n",
      " |  __iter__(self, /)\n",
      " |      Implement iter(self).\n",
      " |  \n",
      " |  __new__(*args, **kwargs) from builtins.type\n",
      " |      Create and return a new object.  See help(type) for accurate signature.\n",
      " |  \n",
      " |  __next__(self, /)\n",
      " |      Implement next(self).\n",
      " |  \n",
      " |  __reduce__(...)\n",
      " |      Return state information for pickling.\n",
      "\n"
     ]
    }
   ],
   "source": [
    "help(filter)"
   ]
  },
  {
   "cell_type": "markdown",
   "metadata": {},
   "source": [
    "And from the [official Python documentation]():\n",
    ">**`filter(function, iterable)`**\n",
    "\n",
    ">    Construct an iterator from those elements of iterable for which function returns true. iterable may be either a sequence, a container which supports iteration, or an iterator. If function is `None`, the identity function is assumed, that is, all elements of iterable that are false are removed.\n",
    "\n",
    ">    Note that `filter(function, iterable)` is equivalent to the generator expression `(item for item in iterable if function(item))` if function is not `None` and `(item for item in iterable if item)` if function is `None`.\n"
   ]
  },
  {
   "cell_type": "markdown",
   "metadata": {},
   "source": [
    "So `filter` takes a two arguments: a function and an iterable. Let's start with a few imports and work our way up to a simple use case."
   ]
  },
  {
   "cell_type": "code",
   "execution_count": 2,
   "metadata": {
    "ExecuteTime": {
     "end_time": "2018-06-14T15:48:40.531543Z",
     "start_time": "2018-06-14T15:48:39.479543Z"
    }
   },
   "outputs": [],
   "source": [
    "%matplotlib inline\n",
    "import numpy as np\n",
    "import pandas as pd\n",
    "import matplotlib.pyplot as plt\n",
    "\n",
    "import operator  # base Python functions\n",
    "from time import time"
   ]
  },
  {
   "cell_type": "code",
   "execution_count": 3,
   "metadata": {
    "ExecuteTime": {
     "end_time": "2018-06-14T15:48:40.539543Z",
     "start_time": "2018-06-14T15:48:40.533543Z"
    }
   },
   "outputs": [],
   "source": [
    "sales = [1234, 2345, 3456, 4567, 65865]"
   ]
  },
  {
   "cell_type": "markdown",
   "metadata": {},
   "source": [
    "Here's the \"traditional\" way of filtering a list:"
   ]
  },
  {
   "cell_type": "code",
   "execution_count": 4,
   "metadata": {
    "ExecuteTime": {
     "end_time": "2018-06-14T15:48:40.557543Z",
     "start_time": "2018-06-14T15:48:40.543543Z"
    }
   },
   "outputs": [
    {
     "name": "stdout",
     "output_type": "stream",
     "text": [
      "[3456, 4567, 65865]\n"
     ]
    }
   ],
   "source": [
    "result = []\n",
    "for sale in sales:\n",
    "    if sale > 3000:\n",
    "        result.append(sale)\n",
    "print(result)"
   ]
  },
  {
   "cell_type": "markdown",
   "metadata": {},
   "source": [
    "Now with a list expression:"
   ]
  },
  {
   "cell_type": "code",
   "execution_count": 5,
   "metadata": {
    "ExecuteTime": {
     "end_time": "2018-06-14T15:48:40.579543Z",
     "start_time": "2018-06-14T15:48:40.560543Z"
    }
   },
   "outputs": [
    {
     "data": {
      "text/plain": [
       "[3456, 4567, 65865]"
      ]
     },
     "execution_count": 5,
     "metadata": {},
     "output_type": "execute_result"
    }
   ],
   "source": [
    "[sale for sale in sales if sale > 3000]"
   ]
  },
  {
   "cell_type": "markdown",
   "metadata": {},
   "source": [
    "And finally, with `filter`:"
   ]
  },
  {
   "cell_type": "code",
   "execution_count": 6,
   "metadata": {
    "ExecuteTime": {
     "end_time": "2018-06-14T15:48:40.599543Z",
     "start_time": "2018-06-14T15:48:40.585543Z"
    }
   },
   "outputs": [
    {
     "data": {
      "text/plain": [
       "[3456, 4567, 65865]"
      ]
     },
     "execution_count": 6,
     "metadata": {},
     "output_type": "execute_result"
    }
   ],
   "source": [
    "list(filter(lambda sale: sale > 3000, sales))"
   ]
  },
  {
   "cell_type": "markdown",
   "metadata": {},
   "source": [
    "Like generator expressions, `map` and `reduce`, we need to wrap `filter` with a call to `list()` in order to \"consume\" the items in the generator. Otherwise they stay untouched, and out of memory. This attribute is called [*lazy evaluation*](https://en.wikipedia.org/wiki/Lazy_evaluation)."
   ]
  },
  {
   "cell_type": "markdown",
   "metadata": {},
   "source": [
    "## Can it be useful?\n",
    "Well, that's a tough one, isn't it? One way I see people saying it's useful is for lists of things that need a function applied to see if they're to be filtered or not.\n",
    "\n",
    "From the Stack Overflow post [list comprehension vs. lambda + filter](https://stackoverflow.com/questions/3013449/list-comprehension-vs-lambda-filter) by user I. J. Kennedy:\n",
    "\n",
    ">A very frequent use case is pulling out the values of some iterable X subject to a predicate P(x):\n",
    "\n",
    ">`[x for x in X if P(x)]`\n",
    "\n",
    ">but sometimes you want to apply some function to the values first:\n",
    "\n",
    ">`[f(x) for x in X if P(f(x))]`\n"
   ]
  },
  {
   "cell_type": "code",
   "execution_count": 7,
   "metadata": {
    "ExecuteTime": {
     "end_time": "2018-06-14T15:48:40.620543Z",
     "start_time": "2018-06-14T15:48:40.608543Z"
    }
   },
   "outputs": [
    {
     "name": "stdout",
     "output_type": "stream",
     "text": [
      "3852\n",
      "5090\n",
      "73397\n"
     ]
    }
   ],
   "source": [
    "def gross_sales(n: int):\n",
    "    \"\"\"Simple function with product and addition, for testing\"\"\"\n",
    "    return int(n * 1.11435 + 1)\n",
    "\n",
    "for s in sales:\n",
    "    if gross_sales(s) > 3000:\n",
    "        print(gross_sales(s))"
   ]
  },
  {
   "cell_type": "code",
   "execution_count": 8,
   "metadata": {
    "ExecuteTime": {
     "end_time": "2018-06-14T15:48:40.638543Z",
     "start_time": "2018-06-14T15:48:40.624543Z"
    }
   },
   "outputs": [
    {
     "data": {
      "text/plain": [
       "[3852, 5090, 73397]"
      ]
     },
     "execution_count": 8,
     "metadata": {},
     "output_type": "execute_result"
    }
   ],
   "source": [
    "[gross_sales(s) for s in sales if gross_sales(s) > 3000]"
   ]
  },
  {
   "cell_type": "code",
   "execution_count": 9,
   "metadata": {
    "ExecuteTime": {
     "end_time": "2018-06-14T15:48:40.660543Z",
     "start_time": "2018-06-14T15:48:40.641543Z"
    }
   },
   "outputs": [
    {
     "data": {
      "text/plain": [
       "[3852, 5090, 73397]"
      ]
     },
     "execution_count": 9,
     "metadata": {},
     "output_type": "execute_result"
    }
   ],
   "source": [
    "list(filter(lambda x: x > 3000, map(gross_sales, sales)))"
   ]
  },
  {
   "cell_type": "markdown",
   "metadata": {
    "ExecuteTime": {
     "end_time": "2018-06-14T14:17:06.368020Z",
     "start_time": "2018-06-14T14:17:06.354020Z"
    }
   },
   "source": [
    "Which is really elegant and easy to read! And it eliminates the need to recalculate the function `gross_sales` twice, right?\n",
    "\n",
    "I would contend that's it's a non-issue, and can be circumvented easily by using `map`. We can just map the function first and filter with a list comprehension:"
   ]
  },
  {
   "cell_type": "code",
   "execution_count": 10,
   "metadata": {
    "ExecuteTime": {
     "end_time": "2018-06-14T15:48:40.688543Z",
     "start_time": "2018-06-14T15:48:40.664543Z"
    }
   },
   "outputs": [
    {
     "data": {
      "text/plain": [
       "[3852, 5090, 73397]"
      ]
     },
     "execution_count": 10,
     "metadata": {},
     "output_type": "execute_result"
    }
   ],
   "source": [
    "[s for s in map(gross_sales, sales) if s > 3000]"
   ]
  },
  {
   "cell_type": "markdown",
   "metadata": {},
   "source": [
    "## Benchmarks"
   ]
  },
  {
   "cell_type": "code",
   "execution_count": 11,
   "metadata": {
    "ExecuteTime": {
     "end_time": "2018-06-14T15:49:56.741543Z",
     "start_time": "2018-06-14T15:48:40.692543Z"
    }
   },
   "outputs": [
    {
     "data": {
      "text/html": [
       "<div>\n",
       "<style scoped>\n",
       "    .dataframe tbody tr th:only-of-type {\n",
       "        vertical-align: middle;\n",
       "    }\n",
       "\n",
       "    .dataframe tbody tr th {\n",
       "        vertical-align: top;\n",
       "    }\n",
       "\n",
       "    .dataframe thead th {\n",
       "        text-align: right;\n",
       "    }\n",
       "</style>\n",
       "<table border=\"1\" class=\"dataframe\">\n",
       "  <thead>\n",
       "    <tr style=\"text-align: right;\">\n",
       "      <th></th>\n",
       "      <th>filter</th>\n",
       "      <th>map_list_comp</th>\n",
       "      <th>list_comp</th>\n",
       "    </tr>\n",
       "  </thead>\n",
       "  <tbody>\n",
       "    <tr>\n",
       "      <th>1024</th>\n",
       "      <td>0.003</td>\n",
       "      <td>0.002</td>\n",
       "      <td>0.005</td>\n",
       "    </tr>\n",
       "    <tr>\n",
       "      <th>2048</th>\n",
       "      <td>0.004</td>\n",
       "      <td>0.004</td>\n",
       "      <td>0.008</td>\n",
       "    </tr>\n",
       "    <tr>\n",
       "      <th>4096</th>\n",
       "      <td>0.008</td>\n",
       "      <td>0.008</td>\n",
       "      <td>0.017</td>\n",
       "    </tr>\n",
       "    <tr>\n",
       "      <th>8192</th>\n",
       "      <td>0.017</td>\n",
       "      <td>0.017</td>\n",
       "      <td>0.034</td>\n",
       "    </tr>\n",
       "    <tr>\n",
       "      <th>16384</th>\n",
       "      <td>0.037</td>\n",
       "      <td>0.034</td>\n",
       "      <td>0.068</td>\n",
       "    </tr>\n",
       "    <tr>\n",
       "      <th>32768</th>\n",
       "      <td>0.071</td>\n",
       "      <td>0.085</td>\n",
       "      <td>0.137</td>\n",
       "    </tr>\n",
       "    <tr>\n",
       "      <th>65536</th>\n",
       "      <td>0.141</td>\n",
       "      <td>0.136</td>\n",
       "      <td>0.266</td>\n",
       "    </tr>\n",
       "    <tr>\n",
       "      <th>131072</th>\n",
       "      <td>0.281</td>\n",
       "      <td>0.278</td>\n",
       "      <td>0.542</td>\n",
       "    </tr>\n",
       "    <tr>\n",
       "      <th>262144</th>\n",
       "      <td>0.599</td>\n",
       "      <td>0.558</td>\n",
       "      <td>1.084</td>\n",
       "    </tr>\n",
       "    <tr>\n",
       "      <th>524288</th>\n",
       "      <td>1.148</td>\n",
       "      <td>1.096</td>\n",
       "      <td>2.237</td>\n",
       "    </tr>\n",
       "    <tr>\n",
       "      <th>1048576</th>\n",
       "      <td>2.234</td>\n",
       "      <td>2.275</td>\n",
       "      <td>4.550</td>\n",
       "    </tr>\n",
       "    <tr>\n",
       "      <th>2097152</th>\n",
       "      <td>4.588</td>\n",
       "      <td>4.895</td>\n",
       "      <td>8.581</td>\n",
       "    </tr>\n",
       "    <tr>\n",
       "      <th>4194304</th>\n",
       "      <td>9.182</td>\n",
       "      <td>9.913</td>\n",
       "      <td>20.090</td>\n",
       "    </tr>\n",
       "  </tbody>\n",
       "</table>\n",
       "</div>"
      ],
      "text/plain": [
       "         filter  map_list_comp  list_comp\n",
       "1024      0.003          0.002      0.005\n",
       "2048      0.004          0.004      0.008\n",
       "4096      0.008          0.008      0.017\n",
       "8192      0.017          0.017      0.034\n",
       "16384     0.037          0.034      0.068\n",
       "32768     0.071          0.085      0.137\n",
       "65536     0.141          0.136      0.266\n",
       "131072    0.281          0.278      0.542\n",
       "262144    0.599          0.558      1.084\n",
       "524288    1.148          1.096      2.237\n",
       "1048576   2.234          2.275      4.550\n",
       "2097152   4.588          4.895      8.581\n",
       "4194304   9.182          9.913     20.090"
      ]
     },
     "execution_count": 11,
     "metadata": {},
     "output_type": "execute_result"
    }
   ],
   "source": [
    "def time_filter(sales_list):\n",
    "    t0 = time()\n",
    "    sum(filter(lambda x: x > 3000, map(gross_sales, sales_list)))\n",
    "    return time() - t0\n",
    "\n",
    "\n",
    "def time_map_list_comp(sales_list):\n",
    "    t0 = time()\n",
    "    # This is actually called a generator expression\n",
    "    # It does not generate the list items ahead of time\n",
    "    # Items are calculated lazily, like `filter` results\n",
    "    sum(s for s in map(gross_sales, sales_list) if s > 3000)\n",
    "    return time() - t0\n",
    "\n",
    "\n",
    "def time_list_comp(sales_list):\n",
    "    t0 = time()\n",
    "    # This is actually called a generator expression\n",
    "    # It does not generate the list items ahead of time\n",
    "    # Items are calculated lazily, like `filter` results\n",
    "    sum(gross_sales(s) for s in sales_list if gross_sales(s) > 3000)\n",
    "    return time() - t0\n",
    "\n",
    "\n",
    "test_range = [list(np.random.randint(0, 100000, size=2**x)) for x in range(10, 23)]\n",
    "times_filter = [time_filter(s) for s in test_range]\n",
    "times_map_list_comp = [time_map_list_comp(s) for s in test_range]\n",
    "times_list_comp = [time_list_comp(s) for s in test_range]\n",
    "\n",
    "df_filter = pd.DataFrame([times_filter, times_map_list_comp, times_list_comp]).T\n",
    "df_filter.columns = ['filter', 'map_list_comp', 'list_comp']\n",
    "df_filter.index = [len(s) for s in test_range]\n",
    "df_filter"
   ]
  },
  {
   "cell_type": "code",
   "execution_count": 13,
   "metadata": {
    "ExecuteTime": {
     "end_time": "2018-06-14T15:53:32.439543Z",
     "start_time": "2018-06-14T15:53:31.738543Z"
    }
   },
   "outputs": [
    {
     "data": {
      "text/plain": [
       "Text(0,0.5,'Compute time (s)')"
      ]
     },
     "execution_count": 13,
     "metadata": {},
     "output_type": "execute_result"
    },
    {
     "data": {
      "image/png": "[encoded data removed]",
      "text/plain": [
       "<matplotlib.figure.Figure at 0x5730dd8>"
      ]
     },
     "metadata": {},
     "output_type": "display_data"
    }
   ],
   "source": [
    "df_filter.plot()\n",
    "plt.title('Compute time for the sum of $n$ filtered random numbers, for $n$ in $[10, 26]$\\n')\n",
    "plt.xlabel('Number of list items')\n",
    "plt.ylabel('Compute time (s)')"
   ]
  },
  {
   "cell_type": "markdown",
   "metadata": {},
   "source": [
    "So it would seem that using either `filter(map(func, iterable))` and filtering through a list comprehension both basically have the same performance.\n",
    "\n",
    "It would appear as though, along with `reduce`, the specific uses for `filter` are quite limited, if not non-existant. In fact, `filter()`'s effects can be achieved though other means that are:\n",
    "1. Just as readable, and\n",
    "2. Just as fast."
   ]
  },
  {
   "cell_type": "markdown",
   "metadata": {},
   "source": [
    "## Conclusions\n",
    "I wish the conclusion to our Higher Level Functions in Python didn't end on such a cliff dive! As we've just seen, there does not seem to be any good uses for `filter` in Python that can't be achieved in ways that are just as readable, and just as fast. I might need to get back to this statement later if I find one, though. Do tweet at me if you find compelling evidence suggesting otherwise! 😀\n",
    "\n",
    "---\n",
    "\n",
    "To recap, we've taken a look at the Python functions `map()`, `functools.reduce()` and `filter()`, and seen the various ways with which they can make code more readable, or enhance performance in some bottlenecks without sacrificing clarity in the code.\n",
    "\n",
    "In [our first installment](higher-level-functions-python-map.html), we saw that `map()` can be a useful way to apply a function to every item in an iterable, and that it can easily fit in everyday code.\n",
    "\n",
    "In our [second article](higher-level-functions-python-reduce.html), we took a look at the `reduce()` function, and were able to find a few niche applications where it might be useful, related to function composition and in some ways, metaprogramming.\n",
    "\n",
    "Finally, we've now seen that the `filter()` function, while elegant and clear in its syntax, can have its effects recreated just as easily with list or generator comprehensions. Of all the various language elements that Python has inherited from \"functional programming\", it might just be the one that serves no clear use. I find it funny that Guido famously moved `reduce` to the functools module, but that `filter` might have been the clearer candidate!"
   ]
  }
 ],
 "metadata": {
  "kernelspec": {
   "display_name": "Python 3",
   "language": "python",
   "name": "python3"
  },
  "language_info": {
   "codemirror_mode": {
    "name": "ipython",
    "version": 3
   },
   "file_extension": ".py",
   "mimetype": "text/x-python",
   "name": "python",
   "nbconvert_exporter": "python",
   "pygments_lexer": "ipython3",
   "version": "3.6.4"
  }
 },
 "nbformat": 4,
 "nbformat_minor": 2
}
