{
 "cells": [
  {
   "cell_type": "markdown",
   "metadata": {},
   "source": [
    "## Logistic regression with `pymc3`\n",
    "\n",
    "Logistic regression is one of the simplest statistical models &mdash; and like many things in life, simple here is often synonymous with extremely powerful. I'm interested in the Bayesian statistics approach to it, here using Python. \n",
    "\n",
    "Here, let's learn how to do this basic task with `pymc3`, and notice if there are any gotchas worth mentioning.\n",
    "\n",
    "### A note on `pymc4`\n",
    "I started off this notebook by first wanting to try out `pymc4` (backed by Tensorflow instead of the deprecated Theano backend), which I thought was still in pre-release at the time. Turns out, development of `pymc4` has halted, and `pymc3` is the new black! That's great news in general, I think.\n",
    "\n",
    "### Task\n",
    "I'll be using a [small little dataset from Kaggle called `cycling.csv`](https://www.kaggle.com/dixienewsome/cycling). The plan is as folows:\n",
    "\n",
    "1. We'll create an extra boolean column called `hr_zone_4` if the average heart rate hit the classic \"Zone 4\" training, commonly called lactate threshold.\n",
    "2. Massage the rest of the data to create usable variables for regression\n",
    "3. Perform the regression using `scipy` for benchmark\n",
    "4. Perform the regression with `pymc4`!\n",
    "\n",
    "Notice that our task is not very... important? or interesting? We should just consider it a way to get working data and see if we can detect patterns."
   ]
  },
  {
   "cell_type": "code",
   "execution_count": 51,
   "metadata": {},
   "outputs": [
    {
     "name": "stdout",
     "output_type": "stream",
     "text": [
      "<class 'pandas.core.frame.DataFrame'>\n",
      "RangeIndex: 340 entries, 0 to 339\n",
      "Data columns (total 18 columns):\n",
      " #   Column                   Non-Null Count  Dtype         \n",
      "---  ------                   --------------  -----         \n",
      " 0   Activity Type            340 non-null    object        \n",
      " 1   Date                     340 non-null    datetime64[ns]\n",
      " 2   Distance                 340 non-null    float64       \n",
      " 3   Calories                 333 non-null    float64       \n",
      " 4   Time                     340 non-null    float64       \n",
      " 5   Avg HR                   311 non-null    float64       \n",
      " 6   Max HR                   311 non-null    float64       \n",
      " 7   Avg Speed                331 non-null    float64       \n",
      " 8   Max Speed                327 non-null    float64       \n",
      " 9   Elev Gain                198 non-null    float64       \n",
      " 10  Elev Loss                198 non-null    float64       \n",
      " 11  Avg Bike Cadence         255 non-null    float64       \n",
      " 12  Max Bike Cadence         255 non-null    float64       \n",
      " 13  Normalized Power® (NP®)  280 non-null    float64       \n",
      " 14  Training Stress Score®   340 non-null    float64       \n",
      " 15  Max Avg Power (20 min)   240 non-null    float64       \n",
      " 16  Power                    281 non-null    float64       \n",
      " 17  Max Power                281 non-null    float64       \n",
      "dtypes: datetime64[ns](1), float64(16), object(1)\n",
      "memory usage: 47.9+ KB\n",
      "None\n"
     ]
    },
    {
     "data": {
      "text/html": [
       "<div>\n",
       "<style scoped>\n",
       "    .dataframe tbody tr th:only-of-type {\n",
       "        vertical-align: middle;\n",
       "    }\n",
       "\n",
       "    .dataframe tbody tr th {\n",
       "        vertical-align: top;\n",
       "    }\n",
       "\n",
       "    .dataframe thead th {\n",
       "        text-align: right;\n",
       "    }\n",
       "</style>\n",
       "<table border=\"1\" class=\"dataframe\">\n",
       "  <thead>\n",
       "    <tr style=\"text-align: right;\">\n",
       "      <th></th>\n",
       "      <th>Activity Type</th>\n",
       "      <th>Date</th>\n",
       "      <th>Distance</th>\n",
       "      <th>Calories</th>\n",
       "      <th>Time</th>\n",
       "      <th>Avg HR</th>\n",
       "      <th>Max HR</th>\n",
       "      <th>Avg Speed</th>\n",
       "      <th>Max Speed</th>\n",
       "      <th>Elev Gain</th>\n",
       "      <th>Elev Loss</th>\n",
       "      <th>Avg Bike Cadence</th>\n",
       "      <th>Max Bike Cadence</th>\n",
       "      <th>Normalized Power® (NP®)</th>\n",
       "      <th>Training Stress Score®</th>\n",
       "      <th>Max Avg Power (20 min)</th>\n",
       "      <th>Power</th>\n",
       "      <th>Max Power</th>\n",
       "    </tr>\n",
       "  </thead>\n",
       "  <tbody>\n",
       "    <tr>\n",
       "      <th>0</th>\n",
       "      <td>indoor_cycling</td>\n",
       "      <td>2018-12-03 05:54:00</td>\n",
       "      <td>25.91</td>\n",
       "      <td>696.0</td>\n",
       "      <td>4595.0</td>\n",
       "      <td>164.0</td>\n",
       "      <td>180.0</td>\n",
       "      <td>20.3</td>\n",
       "      <td>23.9</td>\n",
       "      <td>NaN</td>\n",
       "      <td>NaN</td>\n",
       "      <td>89.0</td>\n",
       "      <td>102.0</td>\n",
       "      <td>158.0</td>\n",
       "      <td>66.8</td>\n",
       "      <td>163.0</td>\n",
       "      <td>152.0</td>\n",
       "      <td>404.0</td>\n",
       "    </tr>\n",
       "    <tr>\n",
       "      <th>1</th>\n",
       "      <td>road_biking</td>\n",
       "      <td>2018-12-02 13:47:00</td>\n",
       "      <td>20.81</td>\n",
       "      <td>679.0</td>\n",
       "      <td>4872.0</td>\n",
       "      <td>162.0</td>\n",
       "      <td>190.0</td>\n",
       "      <td>15.4</td>\n",
       "      <td>27.2</td>\n",
       "      <td>105.0</td>\n",
       "      <td>89.0</td>\n",
       "      <td>NaN</td>\n",
       "      <td>NaN</td>\n",
       "      <td>NaN</td>\n",
       "      <td>0.0</td>\n",
       "      <td>NaN</td>\n",
       "      <td>NaN</td>\n",
       "      <td>NaN</td>\n",
       "    </tr>\n",
       "    <tr>\n",
       "      <th>2</th>\n",
       "      <td>road_biking</td>\n",
       "      <td>2018-11-22 07:44:00</td>\n",
       "      <td>46.22</td>\n",
       "      <td>1158.0</td>\n",
       "      <td>10188.0</td>\n",
       "      <td>158.0</td>\n",
       "      <td>192.0</td>\n",
       "      <td>16.3</td>\n",
       "      <td>26.1</td>\n",
       "      <td>276.0</td>\n",
       "      <td>318.0</td>\n",
       "      <td>83.0</td>\n",
       "      <td>110.0</td>\n",
       "      <td>140.0</td>\n",
       "      <td>116.8</td>\n",
       "      <td>155.0</td>\n",
       "      <td>114.0</td>\n",
       "      <td>592.0</td>\n",
       "    </tr>\n",
       "    <tr>\n",
       "      <th>3</th>\n",
       "      <td>indoor_cycling</td>\n",
       "      <td>2018-11-18 08:36:00</td>\n",
       "      <td>23.27</td>\n",
       "      <td>634.0</td>\n",
       "      <td>4734.0</td>\n",
       "      <td>149.0</td>\n",
       "      <td>167.0</td>\n",
       "      <td>17.7</td>\n",
       "      <td>28.1</td>\n",
       "      <td>NaN</td>\n",
       "      <td>NaN</td>\n",
       "      <td>84.0</td>\n",
       "      <td>104.0</td>\n",
       "      <td>143.0</td>\n",
       "      <td>55.9</td>\n",
       "      <td>150.0</td>\n",
       "      <td>134.0</td>\n",
       "      <td>321.0</td>\n",
       "    </tr>\n",
       "    <tr>\n",
       "      <th>4</th>\n",
       "      <td>indoor_cycling</td>\n",
       "      <td>2018-11-18 07:29:00</td>\n",
       "      <td>12.21</td>\n",
       "      <td>512.0</td>\n",
       "      <td>3630.0</td>\n",
       "      <td>160.0</td>\n",
       "      <td>188.0</td>\n",
       "      <td>12.1</td>\n",
       "      <td>23.2</td>\n",
       "      <td>NaN</td>\n",
       "      <td>NaN</td>\n",
       "      <td>85.0</td>\n",
       "      <td>109.0</td>\n",
       "      <td>176.0</td>\n",
       "      <td>65.3</td>\n",
       "      <td>189.0</td>\n",
       "      <td>143.0</td>\n",
       "      <td>675.0</td>\n",
       "    </tr>\n",
       "  </tbody>\n",
       "</table>\n",
       "</div>"
      ],
      "text/plain": [
       "    Activity Type                Date  Distance  Calories     Time  Avg HR  \\\n",
       "0  indoor_cycling 2018-12-03 05:54:00     25.91     696.0   4595.0   164.0   \n",
       "1     road_biking 2018-12-02 13:47:00     20.81     679.0   4872.0   162.0   \n",
       "2     road_biking 2018-11-22 07:44:00     46.22    1158.0  10188.0   158.0   \n",
       "3  indoor_cycling 2018-11-18 08:36:00     23.27     634.0   4734.0   149.0   \n",
       "4  indoor_cycling 2018-11-18 07:29:00     12.21     512.0   3630.0   160.0   \n",
       "\n",
       "   Max HR  Avg Speed  Max Speed  Elev Gain  Elev Loss  Avg Bike Cadence  \\\n",
       "0   180.0       20.3       23.9        NaN        NaN              89.0   \n",
       "1   190.0       15.4       27.2      105.0       89.0               NaN   \n",
       "2   192.0       16.3       26.1      276.0      318.0              83.0   \n",
       "3   167.0       17.7       28.1        NaN        NaN              84.0   \n",
       "4   188.0       12.1       23.2        NaN        NaN              85.0   \n",
       "\n",
       "   Max Bike Cadence  Normalized Power® (NP®)  Training Stress Score®  \\\n",
       "0             102.0                    158.0                    66.8   \n",
       "1               NaN                      NaN                     0.0   \n",
       "2             110.0                    140.0                   116.8   \n",
       "3             104.0                    143.0                    55.9   \n",
       "4             109.0                    176.0                    65.3   \n",
       "\n",
       "   Max Avg Power (20 min)  Power  Max Power  \n",
       "0                   163.0  152.0      404.0  \n",
       "1                     NaN    NaN        NaN  \n",
       "2                   155.0  114.0      592.0  \n",
       "3                   150.0  134.0      321.0  \n",
       "4                   189.0  143.0      675.0  "
      ]
     },
     "execution_count": 51,
     "metadata": {},
     "output_type": "execute_result"
    }
   ],
   "source": [
    "%matplotlib inline\n",
    "import re\n",
    "\n",
    "import pandas as pd\n",
    "import numpy as np\n",
    "import pymc3 as pm\n",
    "from IPython.display import display\n",
    "\n",
    "# How many seconds per HH:MM:SS segment\n",
    "SECONDS_MAP = {0: 1, 1: 60, 2: 60 * 60}\n",
    "\n",
    "loc = '~/data/cycling/cycling.csv'\n",
    "df = pd.read_csv(loc, na_values='--', thousands=',', parse_dates=['Date'])\n",
    "\n",
    "\n",
    "def clean_timedelta_str(text: str) -> int:\n",
    "    \"\"\"Takes in dirty HH:MM:SS, returns seconds\"\"\"\n",
    "    parts = text.replace('.', ':').split(':')\n",
    "    duration = 0\n",
    "    for ix, part in enumerate(reversed(parts)):\n",
    "        duration += SECONDS_MAP[ix] * int(part)\n",
    "    return float(duration)\n",
    "        \n",
    "\n",
    "df['Time'] = df['Time'].apply(clean_timedelta_str)\n",
    "\n",
    "print(df.info())\n",
    "df.head()"
   ]
  },
  {
   "cell_type": "code",
   "execution_count": 61,
   "metadata": {
    "scrolled": false
   },
   "outputs": [
    {
     "data": {
      "text/plain": [
       "<AxesSubplot:>"
      ]
     },
     "execution_count": 61,
     "metadata": {},
     "output_type": "execute_result"
    },
    {
     "data": {
      "image/png": "[encoded data removed]",
      "text/plain": [
       "<Figure size 432x288 with 1 Axes>"
      ]
     },
     "metadata": {
      "needs_background": "light"
     },
     "output_type": "display_data"
    }
   ],
   "source": [
    "df.plot.box()"
   ]
  },
  {
   "cell_type": "markdown",
   "metadata": {},
   "source": [
    "## Benchmark – Logistic regression with `scipy`"
   ]
  },
  {
   "cell_type": "markdown",
   "metadata": {},
   "source": [
    "## Logistic regression with `pymc3`"
   ]
  },
  {
   "cell_type": "code",
   "execution_count": 2,
   "metadata": {},
   "outputs": [
    {
     "ename": "NameError",
     "evalue": "name 'load_breast_cancer' is not defined",
     "output_type": "error",
     "traceback": [
      "\u001b[0;31m---------------------------------------------------------------------------\u001b[0m",
      "\u001b[0;31mNameError\u001b[0m                                 Traceback (most recent call last)",
      "\u001b[0;32m<ipython-input-2-2718504cc055>\u001b[0m in \u001b[0;36m<module>\u001b[0;34m\u001b[0m\n\u001b[0;32m----> 1\u001b[0;31m \u001b[0mdata\u001b[0m \u001b[0;34m=\u001b[0m \u001b[0mload_breast_cancer\u001b[0m\u001b[0;34m(\u001b[0m\u001b[0;34m)\u001b[0m\u001b[0;34m\u001b[0m\u001b[0;34m\u001b[0m\u001b[0m\n\u001b[0m\u001b[1;32m      2\u001b[0m \u001b[0mX\u001b[0m \u001b[0;34m=\u001b[0m \u001b[0mdata\u001b[0m\u001b[0;34m[\u001b[0m\u001b[0;34m\"data\"\u001b[0m\u001b[0;34m]\u001b[0m\u001b[0;34m.\u001b[0m\u001b[0mastype\u001b[0m\u001b[0;34m(\u001b[0m\u001b[0;34m'float32'\u001b[0m\u001b[0;34m)\u001b[0m\u001b[0;34m\u001b[0m\u001b[0;34m\u001b[0m\u001b[0m\n\u001b[1;32m      3\u001b[0m \u001b[0;31m# Standardize to avoid overflow issues\u001b[0m\u001b[0;34m\u001b[0m\u001b[0;34m\u001b[0m\u001b[0;34m\u001b[0m\u001b[0m\n\u001b[1;32m      4\u001b[0m \u001b[0mX\u001b[0m \u001b[0;34m-=\u001b[0m \u001b[0mX\u001b[0m\u001b[0;34m.\u001b[0m\u001b[0mmean\u001b[0m\u001b[0;34m(\u001b[0m\u001b[0;36m0\u001b[0m\u001b[0;34m)\u001b[0m\u001b[0;34m\u001b[0m\u001b[0;34m\u001b[0m\u001b[0m\n\u001b[1;32m      5\u001b[0m \u001b[0mX\u001b[0m \u001b[0;34m/=\u001b[0m \u001b[0mX\u001b[0m\u001b[0;34m.\u001b[0m\u001b[0mstd\u001b[0m\u001b[0;34m(\u001b[0m\u001b[0;36m0\u001b[0m\u001b[0;34m)\u001b[0m\u001b[0;34m\u001b[0m\u001b[0;34m\u001b[0m\u001b[0m\n",
      "\u001b[0;31mNameError\u001b[0m: name 'load_breast_cancer' is not defined"
     ]
    }
   ],
   "source": [
    "ata = load_breast_cancer()\n",
    "X = data[\"data\"].astype('float32')\n",
    "# Standardize to avoid overflow issues\n",
    "X -= X.mean(0)\n",
    "X /= X.std(0)\n",
    "y = data[\"target\"]\n",
    "\n",
    "n_samples, n_features = X.shape\n",
    "\n",
    "X = tf.constant(X)\n",
    "\n",
    "\n"
   ]
  },
  {
   "cell_type": "code",
   "execution_count": null,
   "metadata": {},
   "outputs": [],
   "source": [
    "@pm4.model\n",
    "def logistic_model():\n",
    "    w = yield pm4.Normal(\"w\", np.zeros(n_features, 'float32'), 0.01 * np.ones(n_features, 'float32'))"
   ]
  }
 ],
 "metadata": {
  "kernelspec": {
   "display_name": "Python 3",
   "language": "python",
   "name": "python3"
  },
  "language_info": {
   "codemirror_mode": {
    "name": "ipython",
    "version": 3
   },
   "file_extension": ".py",
   "mimetype": "text/x-python",
   "name": "python",
   "nbconvert_exporter": "python",
   "pygments_lexer": "ipython3",
   "version": "3.8.0"
  }
 },
 "nbformat": 4,
 "nbformat_minor": 4
}
