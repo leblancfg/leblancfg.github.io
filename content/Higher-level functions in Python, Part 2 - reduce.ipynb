{
 "cells": [
  {
   "cell_type": "markdown",
   "metadata": {},
   "source": [
    "<img src=\"img/reduce_function.png\" width=\"200\" align=\"right\">\n",
    "Python provides a few higher order (or functional programming) functions in the standard library that can be quite useful:\n",
    "\n",
    "* map\n",
    "* filter\n",
    "* reduce\n",
    "* lambda\n",
    "* list comprehensions\n",
    "\n",
    "<div align=\"right\"><i>Picture from <a href=\"https://swiftunboxed.com/lang/reduce\">SwiftUnboxed</a></i></div>\n",
    "\n",
    "This article series focuses on exploring these. In the previous article we've taken a look at [the `map` function](higher-level-functions-python-map.html). In this notebook, we'll learn more about the `reduce` function in Python. Again, I will assume you already know about list expressions, (or more broadly, [generator expressions](https://nedbatchelder.com/blog/201605/generator_comprehensions.html)). Just like I got side-tracked exploring exponential function syntax in the previous installment, this time we'll spend some time learning about function composition, and benchmarking various ways of working with function call chains in Python.\n",
    "\n",
    "This time, `reduce()` needs to be imported from the standard library with:"
   ]
  },
  {
   "cell_type": "code",
   "execution_count": 1,
   "metadata": {
    "ExecuteTime": {
     "end_time": "2018-06-04T20:31:05.149609Z",
     "start_time": "2018-06-04T20:31:05.146609Z"
    }
   },
   "outputs": [],
   "source": [
    "from functools import reduce"
   ]
  },
  {
   "cell_type": "markdown",
   "metadata": {},
   "source": [
    "At this point, an alarm bell might (should?) be going on in your head: *If it isn't in base Python, should I really use it on a regular basis?* The answer to that is a bit complicated.\n",
    "\n",
    "Python core developers are opinionated when it comes to it. From the Python 3.0 release notes:\n",
    ">Removed `reduce()`. Use `functools.reduce()` if you really need it; however, 99 percent of the time an explicit for loop is more readable.\n",
    "\n",
    "Here, we'll spend some time exploring the 1% of times it can be useful. If you don't know it exists, you can't use it, right?\n",
    "\n",
    "## What does reduce even do?\n",
    "Rolling calculations.\n",
    "\n",
    "Reduce passes the previous output every turn in the loop with the current element. This means that you get some preserved state between iterations and that you can build the output as you need it.\n",
    "\n",
    "You might have heard of the '[map-reduce](https://en.wikipedia.org/wiki/MapReduce)' paradigm for distributed data processing, popularized by Big Data applications like [Apache Hadoop](https://hadoop.apache.org/). Say you have three computers containing sales transactions, and you want to know the sum of sales. We'll get back to this and use it as our motivating example."
   ]
  },
  {
   "cell_type": "code",
   "execution_count": 2,
   "metadata": {
    "ExecuteTime": {
     "end_time": "2018-06-04T20:31:05.172609Z",
     "start_time": "2018-06-04T20:31:05.152609Z"
    }
   },
   "outputs": [
    {
     "name": "stdout",
     "output_type": "stream",
     "text": [
      "Help on built-in function reduce in module _functools:\n",
      "\n",
      "reduce(...)\n",
      "    reduce(function, sequence[, initial]) -> value\n",
      "    \n",
      "    Apply a function of two arguments cumulatively to the items of a sequence,\n",
      "    from left to right, so as to reduce the sequence to a single value.\n",
      "    For example, reduce(lambda x, y: x+y, [1, 2, 3, 4, 5]) calculates\n",
      "    ((((1+2)+3)+4)+5).  If initial is present, it is placed before the items\n",
      "    of the sequence in the calculation, and serves as a default when the\n",
      "    sequence is empty.\n",
      "\n"
     ]
    }
   ],
   "source": [
    "help(reduce)"
   ]
  },
  {
   "cell_type": "markdown",
   "metadata": {},
   "source": [
    "So `reduce` takes a two-argument function and applies it iteratively. Let's start with a few imports and work our way up to a simple use case."
   ]
  },
  {
   "cell_type": "code",
   "execution_count": 3,
   "metadata": {
    "ExecuteTime": {
     "end_time": "2018-06-04T20:31:06.291609Z",
     "start_time": "2018-06-04T20:31:05.177609Z"
    }
   },
   "outputs": [],
   "source": [
    "import numpy as np\n",
    "import pandas as pd\n",
    "import matplotlib.pyplot as plt\n",
    "\n",
    "import operator  # base Python functions\n",
    "from time import time"
   ]
  },
  {
   "cell_type": "code",
   "execution_count": 4,
   "metadata": {
    "ExecuteTime": {
     "end_time": "2018-06-04T20:31:06.302609Z",
     "start_time": "2018-06-04T20:31:06.293609Z"
    }
   },
   "outputs": [],
   "source": [
    "sales = [75723, 89359, 27503, 42715, 23425, 31931, 64668, 88465, 62016, 90350]"
   ]
  },
  {
   "cell_type": "code",
   "execution_count": 5,
   "metadata": {
    "ExecuteTime": {
     "end_time": "2018-06-04T20:31:06.326609Z",
     "start_time": "2018-06-04T20:31:06.307609Z"
    }
   },
   "outputs": [],
   "source": [
    "def sum_of_sales(total:int, sale: int):\n",
    "    return total + sale"
   ]
  },
  {
   "cell_type": "code",
   "execution_count": 6,
   "metadata": {
    "ExecuteTime": {
     "end_time": "2018-06-04T20:31:06.348609Z",
     "start_time": "2018-06-04T20:31:06.331609Z"
    }
   },
   "outputs": [
    {
     "data": {
      "text/plain": [
       "596155"
      ]
     },
     "execution_count": 6,
     "metadata": {},
     "output_type": "execute_result"
    }
   ],
   "source": [
    "reduce(sum_of_sales, sales)"
   ]
  },
  {
   "cell_type": "markdown",
   "metadata": {},
   "source": [
    "For simple operations, many people will simply write this as a lambda function:"
   ]
  },
  {
   "cell_type": "code",
   "execution_count": 7,
   "metadata": {
    "ExecuteTime": {
     "end_time": "2018-06-04T20:31:06.365609Z",
     "start_time": "2018-06-04T20:31:06.351609Z"
    }
   },
   "outputs": [
    {
     "data": {
      "text/plain": [
       "596155"
      ]
     },
     "execution_count": 7,
     "metadata": {},
     "output_type": "execute_result"
    }
   ],
   "source": [
    "reduce((lambda x, y: x + y), sales)"
   ]
  },
  {
   "cell_type": "markdown",
   "metadata": {},
   "source": [
    "But there's more to it that that. Let's dig into what's actually going on, and see how we might make use of it."
   ]
  },
  {
   "cell_type": "code",
   "execution_count": 8,
   "metadata": {
    "ExecuteTime": {
     "end_time": "2018-06-04T20:31:06.389609Z",
     "start_time": "2018-06-04T20:31:06.370609Z"
    }
   },
   "outputs": [
    {
     "name": "stdout",
     "output_type": "stream",
     "text": [
      "89359 75723\n",
      "27503 165082\n",
      "42715 192585\n",
      "23425 235300\n",
      "31931 258725\n",
      "64668 290656\n",
      "88465 355324\n",
      "62016 443789\n",
      "90350 505805\n"
     ]
    },
    {
     "data": {
      "text/plain": [
       "596155"
      ]
     },
     "execution_count": 8,
     "metadata": {},
     "output_type": "execute_result"
    }
   ],
   "source": [
    "def sum_of_sales(total:int, sale: int):\n",
    "    print(sale, total)\n",
    "    return sale + total\n",
    "    \n",
    "\n",
    "reduce(sum_of_sales, sales)"
   ]
  },
  {
   "cell_type": "markdown",
   "metadata": {},
   "source": [
    "So actually, it's quite like a fancy for-loop in disguise!\n",
    "\n",
    "The first argument is the 'accumulator' variable, and the second is the one itered on. Of course, these variable exist only in the scope of the function:"
   ]
  },
  {
   "cell_type": "code",
   "execution_count": 9,
   "metadata": {
    "ExecuteTime": {
     "end_time": "2018-06-04T20:31:06.417609Z",
     "start_time": "2018-06-04T20:31:06.396609Z"
    }
   },
   "outputs": [
    {
     "name": "stdout",
     "output_type": "stream",
     "text": [
      "<class 'NameError'> name 'total' is not defined\n"
     ]
    }
   ],
   "source": [
    "try:\n",
    "    print(total)\n",
    "except NameError as e:\n",
    "    print(NameError, e)"
   ]
  },
  {
   "cell_type": "markdown",
   "metadata": {},
   "source": [
    "At first, this seems trivial and roundabout way of doing things. Python has a built-in that does JUST that!"
   ]
  },
  {
   "cell_type": "code",
   "execution_count": 10,
   "metadata": {
    "ExecuteTime": {
     "end_time": "2018-06-04T20:31:06.441609Z",
     "start_time": "2018-06-04T20:31:06.424609Z"
    }
   },
   "outputs": [
    {
     "data": {
      "text/plain": [
       "596155"
      ]
     },
     "execution_count": 10,
     "metadata": {},
     "output_type": "execute_result"
    }
   ],
   "source": [
    "sum(sales)"
   ]
  },
  {
   "cell_type": "markdown",
   "metadata": {},
   "source": [
    "But for products of items in a list, it does provide a better one-liner than its list comprehension counterpart. Let's say we want to calculate the volume of a 6-dimensional box (an everyday occurrence, for sure! 😉)"
   ]
  },
  {
   "cell_type": "code",
   "execution_count": 11,
   "metadata": {
    "ExecuteTime": {
     "end_time": "2018-06-04T20:31:06.459609Z",
     "start_time": "2018-06-04T20:31:06.445609Z"
    }
   },
   "outputs": [
    {
     "name": "stdout",
     "output_type": "stream",
     "text": [
      "5376\n"
     ]
    }
   ],
   "source": [
    "box_sides = [4, 2, 6, 7, 8, 2]\n",
    "\n",
    "volume = 1\n",
    "for dim in box_sides:\n",
    "    volume *= dim\n",
    "print(volume)"
   ]
  },
  {
   "cell_type": "markdown",
   "metadata": {},
   "source": [
    "Compare that to:"
   ]
  },
  {
   "cell_type": "code",
   "execution_count": 12,
   "metadata": {
    "ExecuteTime": {
     "end_time": "2018-06-04T20:31:06.490609Z",
     "start_time": "2018-06-04T20:31:06.462609Z"
    }
   },
   "outputs": [
    {
     "data": {
      "text/plain": [
       "5376"
      ]
     },
     "execution_count": 12,
     "metadata": {},
     "output_type": "execute_result"
    }
   ],
   "source": [
    "reduce(operator.mul, box_sides)"
   ]
  },
  {
   "cell_type": "markdown",
   "metadata": {},
   "source": [
    "or even"
   ]
  },
  {
   "cell_type": "code",
   "execution_count": 13,
   "metadata": {
    "ExecuteTime": {
     "end_time": "2018-06-04T20:31:06.511609Z",
     "start_time": "2018-06-04T20:31:06.497609Z"
    },
    "scrolled": true
   },
   "outputs": [
    {
     "data": {
      "text/plain": [
       "5376"
      ]
     },
     "execution_count": 13,
     "metadata": {},
     "output_type": "execute_result"
    }
   ],
   "source": [
    "reduce(lambda x, y: x * y, box_sides)"
   ]
  },
  {
   "cell_type": "markdown",
   "metadata": {},
   "source": [
    "## Uses\n",
    "Now, Guido van Rossum, the creator and Benevolent Dictator for Life of Python, has stated previously that:\n",
    ">There aren't a whole lot of associative operators. (Those are operators X for which (a X b) X c equals a X (b X c).) I think it's just about limited to +, *, &, |, ^, and shortcut and/or. We already have sum(); I'd happily trade reduce() for product(), so that takes care of the two most common uses.\n",
    "\n",
    "So are there any use cases for non-associative use cases? At the risk of turning this part of the article as a rehash of the StackOverflow question [Useful code which uses reduce()?](https://stackoverflow.com/questions/15995/useful-code-which-uses-reduce), here are the main uses for `reduce()`:\n",
    "* Flattening a list of lists\n",
    "* Getting the intersection of $n$ lists\n",
    "* Turning a list of digits into a number\n",
    "* Least common multiple for 3 or more numbers\n",
    "* Accessing deeply nested items\n",
    "\n",
    "Each of these use cases in Python has a 'canonical recipe' that does not use `reduce()`. In fact, let's take a look at them."
   ]
  },
  {
   "cell_type": "markdown",
   "metadata": {},
   "source": [
    "### Flattening a list of lists"
   ]
  },
  {
   "cell_type": "code",
   "execution_count": 14,
   "metadata": {
    "ExecuteTime": {
     "end_time": "2018-06-04T20:31:06.532609Z",
     "start_time": "2018-06-04T20:31:06.521609Z"
    }
   },
   "outputs": [],
   "source": [
    "lists = [[2, 4, 8], [1, 4, 1231231, 6], [1], [234, 43, 76], [2, 4, 8], [1, 4, 1231231, 6], [1]]"
   ]
  },
  {
   "cell_type": "code",
   "execution_count": 15,
   "metadata": {
    "ExecuteTime": {
     "end_time": "2018-06-04T20:31:06.555609Z",
     "start_time": "2018-06-04T20:31:06.537609Z"
    }
   },
   "outputs": [
    {
     "data": {
      "text/plain": [
       "[2, 4, 8, 1, 4, 1231231, 6, 1, 234, 43, 76, 2, 4, 8, 1, 4, 1231231, 6, 1]"
      ]
     },
     "execution_count": 15,
     "metadata": {},
     "output_type": "execute_result"
    }
   ],
   "source": [
    "# 'Canonical' answer; can also handle arbitrary levels of nestedness\n",
    "from collections import Iterable\n",
    "\n",
    "def flatten(items):\n",
    "    \"\"\"Yield items from any nested iterable; see REF.\"\"\"\n",
    "    for x in items:\n",
    "        if isinstance(x, Iterable) and not isinstance(x, (str, bytes)):\n",
    "            yield from flatten(x)\n",
    "        else:\n",
    "            yield x\n",
    "            \n",
    "            \n",
    "list(flatten(lists))"
   ]
  },
  {
   "cell_type": "markdown",
   "metadata": {},
   "source": [
    "Now with reduce:"
   ]
  },
  {
   "cell_type": "code",
   "execution_count": 16,
   "metadata": {
    "ExecuteTime": {
     "end_time": "2018-06-04T20:31:06.588609Z",
     "start_time": "2018-06-04T20:31:06.560609Z"
    }
   },
   "outputs": [
    {
     "data": {
      "text/plain": [
       "[2, 4, 8, 1, 4, 1231231, 6, 1, 234, 43, 76, 2, 4, 8, 1, 4, 1231231, 6, 1]"
      ]
     },
     "execution_count": 16,
     "metadata": {},
     "output_type": "execute_result"
    }
   ],
   "source": [
    "reduce(operator.concat, lists)"
   ]
  },
  {
   "cell_type": "markdown",
   "metadata": {},
   "source": [
    "### Getting the intersection of $n$ lists"
   ]
  },
  {
   "cell_type": "code",
   "execution_count": 17,
   "metadata": {
    "ExecuteTime": {
     "end_time": "2018-06-04T20:31:06.610609Z",
     "start_time": "2018-06-04T20:31:06.595609Z"
    }
   },
   "outputs": [],
   "source": [
    "list_items = [['apple', 'pear', 'orange', 'kiwi', 'bicycle'],\n",
    "               ['shark', 'speedo', 'coconut', 'kiwi', 'bicycle'],\n",
    "               ['coffee', 'tea', 'apple', 'kiwi', 'bicycle']]"
   ]
  },
  {
   "cell_type": "code",
   "execution_count": 18,
   "metadata": {
    "ExecuteTime": {
     "end_time": "2018-06-04T20:31:06.630609Z",
     "start_time": "2018-06-04T20:31:06.614609Z"
    }
   },
   "outputs": [
    {
     "data": {
      "text/plain": [
       "{'bicycle', 'kiwi'}"
      ]
     },
     "execution_count": 18,
     "metadata": {},
     "output_type": "execute_result"
    }
   ],
   "source": [
    "# 'Canonical' answer\n",
    "set(list_items[0]).intersection(*list_items)"
   ]
  },
  {
   "cell_type": "code",
   "execution_count": 19,
   "metadata": {
    "ExecuteTime": {
     "end_time": "2018-06-04T20:31:06.648609Z",
     "start_time": "2018-06-04T20:31:06.633609Z"
    }
   },
   "outputs": [
    {
     "data": {
      "text/plain": [
       "{'bicycle', 'kiwi'}"
      ]
     },
     "execution_count": 19,
     "metadata": {},
     "output_type": "execute_result"
    }
   ],
   "source": [
    "# With reduce. Personally, I actually prefer the first expression.\n",
    "reduce(set.intersection, [set(item) for item in list_items])"
   ]
  },
  {
   "cell_type": "markdown",
   "metadata": {},
   "source": [
    "### Turning a list of digits into a number\n"
   ]
  },
  {
   "cell_type": "code",
   "execution_count": 20,
   "metadata": {
    "ExecuteTime": {
     "end_time": "2018-06-04T20:31:06.661609Z",
     "start_time": "2018-06-04T20:31:06.651609Z"
    }
   },
   "outputs": [],
   "source": [
    "digits = [1, 5, 2, 7, 5, 2, 6, 24]"
   ]
  },
  {
   "cell_type": "code",
   "execution_count": 21,
   "metadata": {
    "ExecuteTime": {
     "end_time": "2018-06-04T20:31:06.678609Z",
     "start_time": "2018-06-04T20:31:06.666609Z"
    }
   },
   "outputs": [
    {
     "data": {
      "text/plain": [
       "152752624"
      ]
     },
     "execution_count": 21,
     "metadata": {},
     "output_type": "execute_result"
    }
   ],
   "source": [
    "# 'Canonical' answer\n",
    "int(''.join(str(i) for i in digits))"
   ]
  },
  {
   "cell_type": "markdown",
   "metadata": {},
   "source": [
    "Compared to"
   ]
  },
  {
   "cell_type": "code",
   "execution_count": 22,
   "metadata": {
    "ExecuteTime": {
     "end_time": "2018-06-04T20:31:06.695609Z",
     "start_time": "2018-06-04T20:31:06.681609Z"
    }
   },
   "outputs": [
    {
     "data": {
      "text/plain": [
       "15275284"
      ]
     },
     "execution_count": 22,
     "metadata": {},
     "output_type": "execute_result"
    }
   ],
   "source": [
    "reduce(lambda a,d: 10*a+d, digits, 0)"
   ]
  },
  {
   "cell_type": "markdown",
   "metadata": {},
   "source": [
    "### Least common multiple for 2 or more numbers"
   ]
  },
  {
   "cell_type": "code",
   "execution_count": 23,
   "metadata": {
    "ExecuteTime": {
     "end_time": "2018-06-04T20:31:06.739609Z",
     "start_time": "2018-06-04T20:31:06.698609Z"
    }
   },
   "outputs": [
    {
     "data": {
      "text/plain": [
       "300"
      ]
     },
     "execution_count": 23,
     "metadata": {},
     "output_type": "execute_result"
    }
   ],
   "source": [
    "import math\n",
    "\n",
    "\n",
    "numbers = (100, 25, 6)\n",
    "reduce(lambda a,b: a * b // math.gcd(a, b), numbers)"
   ]
  },
  {
   "cell_type": "markdown",
   "metadata": {},
   "source": [
    "### Accessing deeply nested items\n",
    "In this case, reduce actually is the canonical answer to this problem in Python."
   ]
  },
  {
   "cell_type": "code",
   "execution_count": 24,
   "metadata": {
    "ExecuteTime": {
     "end_time": "2018-06-04T20:31:06.755609Z",
     "start_time": "2018-06-04T20:31:06.743609Z"
    }
   },
   "outputs": [],
   "source": [
    "data = {\n",
    "    \"a\":{\n",
    "        \"r\": 1,\n",
    "        \"s\": 2,\n",
    "        \"t\": 3\n",
    "        },\n",
    "    \"b\":{\n",
    "        \"u\": 1,\n",
    "        \"v\": {\n",
    "            \"x\": 1,\n",
    "            \"y\": 2,\n",
    "            \"z\": 3\n",
    "        },\n",
    "        \"w\": 3\n",
    "        }\n",
    "}"
   ]
  },
  {
   "cell_type": "code",
   "execution_count": 25,
   "metadata": {
    "ExecuteTime": {
     "end_time": "2018-06-04T20:31:06.772609Z",
     "start_time": "2018-06-04T20:31:06.760609Z"
    }
   },
   "outputs": [
    {
     "data": {
      "text/plain": [
       "2"
      ]
     },
     "execution_count": 25,
     "metadata": {},
     "output_type": "execute_result"
    }
   ],
   "source": [
    "data['b']['v']['y']"
   ]
  },
  {
   "cell_type": "markdown",
   "metadata": {},
   "source": [
    "Sometimes you just don't know in advance what the query in the nested dictionnary will be, though. Imagine being given a list of (ordered) keys as your input. This can often happen in web apps and the like. You would write it out like this:"
   ]
  },
  {
   "cell_type": "code",
   "execution_count": 26,
   "metadata": {
    "ExecuteTime": {
     "end_time": "2018-06-04T20:31:06.791609Z",
     "start_time": "2018-06-04T20:31:06.776609Z"
    }
   },
   "outputs": [
    {
     "data": {
      "text/plain": [
       "2"
      ]
     },
     "execution_count": 26,
     "metadata": {},
     "output_type": "execute_result"
    }
   ],
   "source": [
    "import operator\n",
    "\n",
    "# The user supplies this\n",
    "keys = ['b', 'v', 'y']\n",
    "\n",
    "reduce(operator.getitem, keys, data)"
   ]
  },
  {
   "cell_type": "markdown",
   "metadata": {},
   "source": [
    "## The killer use-case: function composition\n",
    "As we've seen, reduce is not all that useful except for niche cases, and even then they can be just as readable when written with for loops.\n",
    "\n",
    "I'd like to leave you with a final use case that I like to keep around.\n",
    "\n",
    "When running a data processing pipeline, what often happens is a series of function calls that can quickly become unruly. For example:"
   ]
  },
  {
   "cell_type": "code",
   "execution_count": 27,
   "metadata": {
    "ExecuteTime": {
     "end_time": "2018-06-04T20:31:06.838609Z",
     "start_time": "2018-06-04T20:31:06.801609Z"
    }
   },
   "outputs": [
    {
     "data": {
      "text/plain": [
       "'The Slow Blue Fox Jumps Over The Industrious Dog'"
      ]
     },
     "execution_count": 27,
     "metadata": {},
     "output_type": "execute_result"
    }
   ],
   "source": [
    "def clean_strings(string):\n",
    "    s = string.lower()\n",
    "    s = s.replace('brown', 'blue')\n",
    "    s = s.replace('quick', 'slow')\n",
    "    s = s.replace('lazy', 'industrious')\n",
    "    s = s.title()\n",
    "    return s\n",
    "\n",
    "\n",
    "string = \"THE QUICK BROWN FOX JUMPS OVER THE LAZY DOG\"\n",
    "clean_strings(string)"
   ]
  },
  {
   "cell_type": "markdown",
   "metadata": {
    "ExecuteTime": {
     "end_time": "2018-06-04T18:14:41.085719Z",
     "start_time": "2018-06-04T18:14:41.065719Z"
    }
   },
   "source": [
    "For one-time use, this could be written as a chained operation instead, by wrapping the expression in parentheses"
   ]
  },
  {
   "cell_type": "code",
   "execution_count": 28,
   "metadata": {
    "ExecuteTime": {
     "end_time": "2018-06-04T20:31:06.861609Z",
     "start_time": "2018-06-04T20:31:06.844609Z"
    }
   },
   "outputs": [
    {
     "data": {
      "text/plain": [
       "'The Slow Blue Fox Jumps Over The Industrious Dog'"
      ]
     },
     "execution_count": 28,
     "metadata": {},
     "output_type": "execute_result"
    }
   ],
   "source": [
    "(string.lower()\n",
    "       .replace('brown', 'blue')\n",
    "       .replace('quick', 'slow')\n",
    "       .replace('lazy', 'industrious')\n",
    "       .title()\n",
    ")"
   ]
  },
  {
   "cell_type": "markdown",
   "metadata": {
    "ExecuteTime": {
     "end_time": "2018-06-04T18:00:33.715180Z",
     "start_time": "2018-06-04T18:00:33.685180Z"
    }
   },
   "source": [
    "In terms of composability though, it doesn't quite compare to using `reduce`:"
   ]
  },
  {
   "cell_type": "code",
   "execution_count": 29,
   "metadata": {
    "ExecuteTime": {
     "end_time": "2018-06-04T20:31:06.878609Z",
     "start_time": "2018-06-04T20:31:06.864609Z"
    }
   },
   "outputs": [],
   "source": [
    "color = lambda x: x.replace('brown', 'blue')\n",
    "speed = lambda x: x.replace('quick', 'slow')\n",
    "work = lambda x: x.replace('lazy', 'industrious')\n",
    "\n",
    "# In actual use cases, this list can get quite lengthy!\n",
    "transforms = [str.lower, color, speed, work, str.title]"
   ]
  },
  {
   "cell_type": "code",
   "execution_count": 30,
   "metadata": {
    "ExecuteTime": {
     "end_time": "2018-06-04T20:31:06.895609Z",
     "start_time": "2018-06-04T20:31:06.882609Z"
    }
   },
   "outputs": [
    {
     "data": {
      "text/plain": [
       "'The Slow Blue Fox Jumps Over The Industrious Dog'"
      ]
     },
     "execution_count": 30,
     "metadata": {},
     "output_type": "execute_result"
    }
   ],
   "source": [
    "def call(string, function):\n",
    "    return function(string)\n",
    "\n",
    "       \n",
    "reduce(call, transforms, string)"
   ]
  },
  {
   "cell_type": "markdown",
   "metadata": {},
   "source": [
    "By splitting the concern of the `clean_strings()` function, that acts as both:\n",
    "1. A container for string cleaning methods, and\n",
    "2. The action of actually applying the functions to the string,\n",
    "\n",
    "we gain added readability and maintainability by having defined **what** we'll be doing to the string somewhere else than **when** we apply it, which is neatly done in a single line."
   ]
  },
  {
   "cell_type": "markdown",
   "metadata": {},
   "source": [
    "## Benchmarks\n",
    "Now the kicker! Is it faster than regular chained calls, though?"
   ]
  },
  {
   "cell_type": "markdown",
   "metadata": {},
   "source": [
    "### Short string, 5 string functions"
   ]
  },
  {
   "cell_type": "code",
   "execution_count": 31,
   "metadata": {
    "ExecuteTime": {
     "end_time": "2018-06-04T20:31:06.926609Z",
     "start_time": "2018-06-04T20:31:06.914609Z"
    }
   },
   "outputs": [],
   "source": [
    "string = \"THE QUICK BROWN FOX JUMPS OVER THE LAZY DOG\""
   ]
  },
  {
   "cell_type": "code",
   "execution_count": 32,
   "metadata": {
    "ExecuteTime": {
     "end_time": "2018-06-04T20:31:08.427609Z",
     "start_time": "2018-06-04T20:31:06.929609Z"
    }
   },
   "outputs": [
    {
     "name": "stdout",
     "output_type": "stream",
     "text": [
      "1.7 µs ± 93.4 ns per loop (mean ± std. dev. of 7 runs, 100000 loops each)\n"
     ]
    }
   ],
   "source": [
    "%%timeit\n",
    "(string.lower()\n",
    "       .replace('brown', 'blue')\n",
    "       .replace('quick', 'slow')\n",
    "       .replace('lazy', 'industrious')\n",
    "       .title()\n",
    ")"
   ]
  },
  {
   "cell_type": "code",
   "execution_count": 33,
   "metadata": {
    "ExecuteTime": {
     "end_time": "2018-06-04T20:31:23.575609Z",
     "start_time": "2018-06-04T20:31:08.431609Z"
    }
   },
   "outputs": [
    {
     "name": "stdout",
     "output_type": "stream",
     "text": [
      "1.88 µs ± 53.5 ns per loop (mean ± std. dev. of 7 runs, 1000000 loops each)\n"
     ]
    }
   ],
   "source": [
    "%%timeit\n",
    "clean_strings(string)"
   ]
  },
  {
   "cell_type": "code",
   "execution_count": 34,
   "metadata": {
    "ExecuteTime": {
     "end_time": "2018-06-04T20:31:25.713609Z",
     "start_time": "2018-06-04T20:31:23.580609Z"
    },
    "scrolled": true
   },
   "outputs": [
    {
     "name": "stdout",
     "output_type": "stream",
     "text": [
      "2.56 µs ± 38.1 ns per loop (mean ± std. dev. of 7 runs, 100000 loops each)\n"
     ]
    }
   ],
   "source": [
    "%%timeit\n",
    "reduce(call, transforms, string)"
   ]
  },
  {
   "cell_type": "markdown",
   "metadata": {},
   "source": [
    "So, the answer here is **no**. 😂"
   ]
  },
  {
   "cell_type": "markdown",
   "metadata": {},
   "source": [
    "### Short string, 50 string functions\n",
    "I'll skip calling the long chained call at this point, and just assume performance will be similar to calling `clean_strings()`. To do this, we'll define a little helper function so that we can repeat our `clean_strings()` 10 times."
   ]
  },
  {
   "cell_type": "code",
   "execution_count": 35,
   "metadata": {
    "ExecuteTime": {
     "end_time": "2018-06-04T20:31:25.728609Z",
     "start_time": "2018-06-04T20:31:25.717609Z"
    }
   },
   "outputs": [],
   "source": [
    "string = \"THE QUICK BROWN FOX JUMPS OVER THE LAZY DOG\""
   ]
  },
  {
   "cell_type": "code",
   "execution_count": 36,
   "metadata": {
    "ExecuteTime": {
     "end_time": "2018-06-04T20:31:25.759609Z",
     "start_time": "2018-06-04T20:31:25.733609Z"
    }
   },
   "outputs": [],
   "source": [
    "def repeat(func, n, x):\n",
    "    for i in range(n):\n",
    "        x = func(x)\n",
    "    return x"
   ]
  },
  {
   "cell_type": "code",
   "execution_count": 37,
   "metadata": {
    "ExecuteTime": {
     "end_time": "2018-06-04T20:31:38.559609Z",
     "start_time": "2018-06-04T20:31:25.765609Z"
    }
   },
   "outputs": [
    {
     "name": "stdout",
     "output_type": "stream",
     "text": [
      "15.4 µs ± 246 ns per loop (mean ± std. dev. of 7 runs, 100000 loops each)\n"
     ]
    }
   ],
   "source": [
    "%%timeit\n",
    "repeat(clean_strings, 10, string)"
   ]
  },
  {
   "cell_type": "code",
   "execution_count": 38,
   "metadata": {
    "ExecuteTime": {
     "end_time": "2018-06-04T20:31:40.365609Z",
     "start_time": "2018-06-04T20:31:38.562609Z"
    },
    "scrolled": true
   },
   "outputs": [
    {
     "name": "stdout",
     "output_type": "stream",
     "text": [
      "21.6 µs ± 410 ns per loop (mean ± std. dev. of 7 runs, 10000 loops each)\n"
     ]
    }
   ],
   "source": [
    "%%timeit\n",
    "reduce(call, transforms * 10, string)"
   ]
  },
  {
   "cell_type": "markdown",
   "metadata": {},
   "source": [
    "Well, no gains there either!\n",
    "\n",
    "### Long string, 5 string functions\n",
    "And now with a very long string:"
   ]
  },
  {
   "cell_type": "code",
   "execution_count": 39,
   "metadata": {
    "ExecuteTime": {
     "end_time": "2018-06-04T20:31:40.376609Z",
     "start_time": "2018-06-04T20:31:40.370609Z"
    }
   },
   "outputs": [],
   "source": [
    "string = \"THE QUICK BROWN FOX JUMPS OVER THE LAZY DOG\" * 1000"
   ]
  },
  {
   "cell_type": "code",
   "execution_count": 40,
   "metadata": {
    "ExecuteTime": {
     "end_time": "2018-06-04T20:31:46.583609Z",
     "start_time": "2018-06-04T20:31:40.382609Z"
    }
   },
   "outputs": [
    {
     "name": "stdout",
     "output_type": "stream",
     "text": [
      "756 µs ± 6.66 µs per loop (mean ± std. dev. of 7 runs, 1000 loops each)\n"
     ]
    }
   ],
   "source": [
    "%%timeit\n",
    "(string.lower()\n",
    "       .replace('brown', 'blue')\n",
    "       .replace('quick', 'slow')\n",
    "       .replace('lazy', 'industrious')\n",
    "       .title()\n",
    ")"
   ]
  },
  {
   "cell_type": "code",
   "execution_count": 41,
   "metadata": {
    "ExecuteTime": {
     "end_time": "2018-06-04T20:31:52.731609Z",
     "start_time": "2018-06-04T20:31:46.585609Z"
    }
   },
   "outputs": [
    {
     "name": "stdout",
     "output_type": "stream",
     "text": [
      "748 µs ± 6.57 µs per loop (mean ± std. dev. of 7 runs, 1000 loops each)\n"
     ]
    }
   ],
   "source": [
    "%%timeit\n",
    "clean_strings(string)"
   ]
  },
  {
   "cell_type": "code",
   "execution_count": 42,
   "metadata": {
    "ExecuteTime": {
     "end_time": "2018-06-04T20:31:58.925609Z",
     "start_time": "2018-06-04T20:31:52.736609Z"
    }
   },
   "outputs": [
    {
     "name": "stdout",
     "output_type": "stream",
     "text": [
      "755 µs ± 3.05 µs per loop (mean ± std. dev. of 7 runs, 1000 loops each)\n"
     ]
    }
   ],
   "source": [
    "%%timeit\n",
    "reduce(call, transforms, string)"
   ]
  },
  {
   "cell_type": "markdown",
   "metadata": {},
   "source": [
    "### Long string, 50 string functions"
   ]
  },
  {
   "cell_type": "code",
   "execution_count": 43,
   "metadata": {
    "ExecuteTime": {
     "end_time": "2018-06-04T20:32:04.358609Z",
     "start_time": "2018-06-04T20:31:58.929609Z"
    }
   },
   "outputs": [
    {
     "name": "stdout",
     "output_type": "stream",
     "text": [
      "6.63 ms ± 67.4 µs per loop (mean ± std. dev. of 7 runs, 100 loops each)\n"
     ]
    }
   ],
   "source": [
    "%%timeit\n",
    "repeat(clean_strings, 10, string)"
   ]
  },
  {
   "cell_type": "code",
   "execution_count": 44,
   "metadata": {
    "ExecuteTime": {
     "end_time": "2018-06-04T20:32:09.792609Z",
     "start_time": "2018-06-04T20:32:04.363609Z"
    }
   },
   "outputs": [
    {
     "name": "stdout",
     "output_type": "stream",
     "text": [
      "6.64 ms ± 25.1 µs per loop (mean ± std. dev. of 7 runs, 100 loops each)\n"
     ]
    }
   ],
   "source": [
    "%%timeit\n",
    "reduce(call, transforms * 10, string)"
   ]
  },
  {
   "cell_type": "markdown",
   "metadata": {},
   "source": [
    "At this point, it looks as though the performance difference between the two methods are due to overhead, rather than execution performance."
   ]
  },
  {
   "cell_type": "markdown",
   "metadata": {},
   "source": [
    "## Conclusions for function composition\n",
    "So as we can see, there's a cliff when chaining functions where using `reduce` starts making sense to replace chained function calls, when either:\n",
    "1. The number of functions to apply in the chain are high enough to become unreadable, or\n",
    "2. You won't know in advance which functions to apply, and need a way to abstract it away.\n",
    "\n",
    "<center><img title=\"Genetic Algorithm\" src=\"img/genetic_algo.svg\" width=\"400\">\n",
    "<i><b>Genetic Algorithms</b><br>Courtesy of [CoalHMM Documentation](https://github.com/birc-aeh/coalhmm)</i></center>\n",
    "\n",
    "One example of this last case that comes to mind is if you were running a genetic algorithm experiment to evolve a solution to a problem that uses function composition.\n",
    "\n",
    "For more on this, I highly recommend you take a look at Mathieu Larose's article entitled *[Function Composition in Python](https://mathieularose.com/function-composition-in-python/)*\n"
   ]
  }
 ],
 "metadata": {
  "kernelspec": {
   "display_name": "Python 3",
   "language": "python",
   "name": "python3"
  },
  "language_info": {
   "codemirror_mode": {
    "name": "ipython",
    "version": 3
   },
   "file_extension": ".py",
   "mimetype": "text/x-python",
   "name": "python",
   "nbconvert_exporter": "python",
   "pygments_lexer": "ipython3",
   "version": "3.6.4"
  }
 },
 "nbformat": 4,
 "nbformat_minor": 2
}
