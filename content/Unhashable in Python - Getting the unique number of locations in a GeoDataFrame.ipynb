{
 "cells": [
  {
   "cell_type": "markdown",
   "metadata": {},
   "source": [
    "<img src=\"https://i.stack.imgur.com/GxY2t.png\" align=\"right\" width=\"200\">\n",
    "I end up using [geopandas]() on a regular basis, and one of its minor irritants is getting the unique number of geometries in a GeoDataFrame.\n",
    "\n",
    "In this particular instance, I want to know how many duplicate locations I had in my dataset. The solution involves a way to sidestep the issue. In it, we'll get to learn the difference between mutable and immutable objects in Python, and their various properties.\n",
    "\n",
    "\n",
    "## Background"
   ]
  },
  {
   "cell_type": "code",
   "execution_count": 44,
   "metadata": {
    "ExecuteTime": {
     "end_time": "2018-09-14T21:11:51.142098Z",
     "start_time": "2018-09-14T21:11:51.126498Z"
    }
   },
   "outputs": [],
   "source": [
    "import geopandas as gpd\n",
    "from shapely.geometry import Point"
   ]
  },
  {
   "cell_type": "code",
   "execution_count": 45,
   "metadata": {
    "ExecuteTime": {
     "end_time": "2018-09-14T21:11:51.173297Z",
     "start_time": "2018-09-14T21:11:51.142098Z"
    }
   },
   "outputs": [
    {
     "name": "stdout",
     "output_type": "stream",
     "text": [
      "{'apple', 'orange'}\n"
     ]
    }
   ],
   "source": [
    "# Immutable objects are hashable, e.g. strings\n",
    "print(set(['apple', 'orange']))"
   ]
  },
  {
   "cell_type": "code",
   "execution_count": 46,
   "metadata": {
    "ExecuteTime": {
     "end_time": "2018-09-14T21:11:51.189897Z",
     "start_time": "2018-09-14T21:11:51.173297Z"
    }
   },
   "outputs": [
    {
     "ename": "TypeError",
     "evalue": "unhashable type: 'list'",
     "output_type": "error",
     "traceback": [
      "\u001b[1;31m---------------------------------------------------------------------------\u001b[0m",
      "\u001b[1;31mTypeError\u001b[0m                                 Traceback (most recent call last)",
      "\u001b[1;32m<ipython-input-46-6bb9ecf39f11>\u001b[0m in \u001b[0;36m<module>\u001b[1;34m()\u001b[0m\n\u001b[0;32m      1\u001b[0m \u001b[1;31m# But not mutable ones\u001b[0m\u001b[1;33m\u001b[0m\u001b[1;33m\u001b[0m\u001b[0m\n\u001b[1;32m----> 2\u001b[1;33m \u001b[0mprint\u001b[0m\u001b[1;33m(\u001b[0m\u001b[0mset\u001b[0m\u001b[1;33m(\u001b[0m\u001b[1;33m[\u001b[0m\u001b[1;34m'apple'\u001b[0m\u001b[1;33m,\u001b[0m \u001b[1;33m[\u001b[0m\u001b[1;34m'orange'\u001b[0m\u001b[1;33m,\u001b[0m \u001b[1;34m'banana'\u001b[0m\u001b[1;33m]\u001b[0m\u001b[1;33m]\u001b[0m\u001b[1;33m)\u001b[0m\u001b[1;33m)\u001b[0m\u001b[1;33m\u001b[0m\u001b[0m\n\u001b[0m",
      "\u001b[1;31mTypeError\u001b[0m: unhashable type: 'list'"
     ]
    }
   ],
   "source": [
    "# But not mutable ones\n",
    "print(set(['apple', ['orange', 'banana']]))"
   ]
  },
  {
   "cell_type": "markdown",
   "metadata": {},
   "source": [
    "That's because we're feeding `set()` with a string and a list, the latter being a mutable object. Lists are meant to change readily (as opposed to tuples), and Python disallows their serialization when trying to hash them."
   ]
  },
  {
   "cell_type": "markdown",
   "metadata": {},
   "source": [
    "## The problem\n",
    "Geopandas geometries are stored as `shapely.geometry` objects, which have the interesting following attribute of being unhashable in Python."
   ]
  },
  {
   "cell_type": "code",
   "execution_count": null,
   "metadata": {
    "ExecuteTime": {
     "end_time": "2018-09-14T21:11:51.205496Z",
     "start_time": "2018-09-14T21:11:51.136Z"
    }
   },
   "outputs": [],
   "source": [
    "points = [Point([0, 0]), Point([1, 1])]\n",
    "print(len(set(points)))"
   ]
  },
  {
   "cell_type": "markdown",
   "metadata": {},
   "source": [
    "Similarly with Geopandas, which stores its `geometry` column as `shapely.geometry` objects:"
   ]
  },
  {
   "cell_type": "code",
   "execution_count": null,
   "metadata": {
    "ExecuteTime": {
     "end_time": "2018-09-14T21:11:51.205496Z",
     "start_time": "2018-09-14T21:11:51.187Z"
    }
   },
   "outputs": [],
   "source": [
    "world = gpd.read_file(gpd.datasets.get_path('naturalearth_lowres'))\n",
    "print(len(world['geometry'].unique()))"
   ]
  },
  {
   "cell_type": "markdown",
   "metadata": {},
   "source": [
    "The reason for this is because shapely objects are mutable &mdash; each object is meant to be transformed and rewritten-to in memory under the same variable name.\n",
    "\n"
   ]
  },
  {
   "cell_type": "markdown",
   "metadata": {},
   "source": [
    "## The solution\n",
    "To get around this issue, you need to modify the way the `geometry` object is represented before passing your iterable to `set()` or `GeoSeries.unique()`.\n",
    "\n",
    "Like above, we'll change them to type `str`, which are immutable. "
   ]
  },
  {
   "cell_type": "code",
   "execution_count": null,
   "metadata": {
    "ExecuteTime": {
     "end_time": "2018-09-14T21:11:51.221096Z",
     "start_time": "2018-09-14T21:11:51.201Z"
    }
   },
   "outputs": [],
   "source": [
    "geometries = world['geometry'].apply(lambda x: x.wkt).values\n",
    "print(geometries[0][:100], '...')"
   ]
  },
  {
   "cell_type": "code",
   "execution_count": null,
   "metadata": {
    "ExecuteTime": {
     "end_time": "2018-09-14T21:11:51.236695Z",
     "start_time": "2018-09-14T21:11:51.209Z"
    }
   },
   "outputs": [],
   "source": [
    "len(set(geometries))"
   ]
  },
  {
   "cell_type": "markdown",
   "metadata": {},
   "source": [
    "## See also\n",
    "See [discussion on the project's Github repo](https://github.com/Toblerity/Shapely/pull/320), where the issue is discussed with the owner of the package:\n",
    "\n",
    ">[sgillies](https://github.com/sgillies) commented on Sep 6, 2015\n",
    "\n",
    ">Shapely's geometries are mutable, but we're providing a hash function. These two features are inconsistent. Rather than remove mutability (for now) we'll remove the hashability.\n",
    "\n",
    "Also of note, the issue is also [discussed in geopandas issue 221](https://github.com/geopandas/geopandas/issues/221). In some ways, this behaviour jars with the rest of pandas, which provide \"view access\" to the data is stores... immutably.\n",
    "\n",
    "A word to the wise!"
   ]
  }
 ],
 "metadata": {
  "kernelspec": {
   "display_name": "Python 3",
   "language": "python",
   "name": "python3"
  },
  "language_info": {
   "codemirror_mode": {
    "name": "ipython",
    "version": 3
   },
   "file_extension": ".py",
   "mimetype": "text/x-python",
   "name": "python",
   "nbconvert_exporter": "python",
   "pygments_lexer": "ipython3",
   "version": "3.6.4"
  },
  "toc": {
   "nav_menu": {},
   "number_sections": true,
   "sideBar": true,
   "skip_h1_title": false,
   "toc_cell": false,
   "toc_position": {},
   "toc_section_display": "block",
   "toc_window_display": false
  }
 },
 "nbformat": 4,
 "nbformat_minor": 2
}
