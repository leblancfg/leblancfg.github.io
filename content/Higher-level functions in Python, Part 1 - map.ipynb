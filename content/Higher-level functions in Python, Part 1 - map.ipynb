{
 "cells": [
  {
   "cell_type": "markdown",
   "metadata": {},
   "source": [
    "<img src=\"img/map_function.png\" width=\"200\" align=\"right\">\n",
    "Python provides a few higher order (or functional programming) functions in the standard library that can be quite useful:\n",
    "\n",
    "* map\n",
    "* filter\n",
    "* reduce\n",
    "* lambda\n",
    "* list comprehensions\n",
    "\n",
    "<div align=\"right\"><i>Picture from <a href=\"https://swiftunboxed.com/open-source/map\">SwiftUnboxed</a></i></div>\n",
    "\n",
    "This article series focuses on exploring these. In this notebook, we'll learn more about the `map` Python function. I will assume you already know about list expressions, but might not be so familiar with the other four.\n",
    "\n",
    "At first glance `map` seems a bit redundant &mdash; all it does is apply a function to every member in an iterable (list, dict, tuple, set, etc.)? Playing with it though, we'll see that it can be used to tidy up your code, make it more readable, and even give performance gains when used with very large iterables due to its lazy evaluation."
   ]
  },
  {
   "cell_type": "code",
   "execution_count": 1,
   "metadata": {
    "ExecuteTime": {
     "end_time": "2018-06-01T19:34:55.154504Z",
     "start_time": "2018-06-01T19:34:53.964516Z"
    }
   },
   "outputs": [],
   "source": [
    "import numpy as np\n",
    "import pandas as pd\n",
    "import matplotlib.pyplot as plt\n",
    "import functools\n",
    "from itertools import repeat\n",
    "from time import time"
   ]
  },
  {
   "cell_type": "markdown",
   "metadata": {},
   "source": [
    "Let's create a simple function, which we'll use in these examples. `map` takes in a function and an iterable, and applies the first to the second. It returns a map iterator, that applies the function in turn for every item it contains. This language choice was made in order to save memory, and make loops slightly faster to process."
   ]
  },
  {
   "cell_type": "code",
   "execution_count": 2,
   "metadata": {
    "ExecuteTime": {
     "end_time": "2018-06-01T19:34:55.174504Z",
     "start_time": "2018-06-01T19:34:55.154504Z"
    }
   },
   "outputs": [
    {
     "name": "stdout",
     "output_type": "stream",
     "text": [
      "14641\n"
     ]
    }
   ],
   "source": [
    "def square(n):\n",
    "    return n * n\n",
    "\n",
    "\n",
    "print(square(121))"
   ]
  },
  {
   "cell_type": "code",
   "execution_count": 3,
   "metadata": {
    "ExecuteTime": {
     "end_time": "2018-06-01T19:34:55.194504Z",
     "start_time": "2018-06-01T19:34:55.174504Z"
    }
   },
   "outputs": [],
   "source": [
    "data = [121, 122, 123, 124, 129]"
   ]
  },
  {
   "cell_type": "markdown",
   "metadata": {},
   "source": [
    "If you try, you get an error if you try to apply the function to the list."
   ]
  },
  {
   "cell_type": "code",
   "execution_count": 4,
   "metadata": {
    "ExecuteTime": {
     "end_time": "2018-06-01T19:34:55.224504Z",
     "start_time": "2018-06-01T19:34:55.204504Z"
    }
   },
   "outputs": [
    {
     "name": "stdout",
     "output_type": "stream",
     "text": [
      "<class 'TypeError'> can't multiply sequence by non-int of type 'list'\n"
     ]
    }
   ],
   "source": [
    "try:\n",
    "    square(data)\n",
    "except TypeError as e:\n",
    "    print(TypeError, e)"
   ]
  },
  {
   "cell_type": "markdown",
   "metadata": {},
   "source": [
    "Rather, you need to apply it to every member. Using a \"traditional\" for-loop, this is how you'd do it:"
   ]
  },
  {
   "cell_type": "code",
   "execution_count": 5,
   "metadata": {
    "ExecuteTime": {
     "end_time": "2018-06-01T19:34:55.229504Z",
     "start_time": "2018-06-01T19:34:55.224504Z"
    }
   },
   "outputs": [
    {
     "data": {
      "text/plain": [
       "[14641, 14884, 15129, 15376, 16641]"
      ]
     },
     "execution_count": 5,
     "metadata": {},
     "output_type": "execute_result"
    }
   ],
   "source": [
    "square_data = []\n",
    "for i in data:\n",
    "    square_data.append(square(i))\n",
    "square_data"
   ]
  },
  {
   "cell_type": "code",
   "execution_count": 6,
   "metadata": {
    "ExecuteTime": {
     "end_time": "2018-06-01T19:34:55.244504Z",
     "start_time": "2018-06-01T19:34:55.232504Z"
    }
   },
   "outputs": [
    {
     "data": {
      "text/plain": [
       "[14641, 14884, 15129, 15376, 16641]"
      ]
     },
     "execution_count": 6,
     "metadata": {},
     "output_type": "execute_result"
    }
   ],
   "source": [
    "# Of course, the same can be done with list comprehensions\n",
    "[square(i) for i in data]"
   ]
  },
  {
   "cell_type": "markdown",
   "metadata": {},
   "source": [
    "Let's try the same thing using `map`. Calling it directly (`map(func, iterable)`), it only defines the new iterable it creates, like a generator."
   ]
  },
  {
   "cell_type": "code",
   "execution_count": 7,
   "metadata": {
    "ExecuteTime": {
     "end_time": "2018-06-01T19:34:55.286503Z",
     "start_time": "2018-06-01T19:34:55.256504Z"
    }
   },
   "outputs": [
    {
     "data": {
      "text/plain": [
       "<map at 0x907b470>"
      ]
     },
     "execution_count": 7,
     "metadata": {},
     "output_type": "execute_result"
    }
   ],
   "source": [
    "map(square, data)"
   ]
  },
  {
   "cell_type": "markdown",
   "metadata": {},
   "source": [
    "To get the values, you need to cast it to a list."
   ]
  },
  {
   "cell_type": "code",
   "execution_count": 8,
   "metadata": {
    "ExecuteTime": {
     "end_time": "2018-06-01T19:34:55.306503Z",
     "start_time": "2018-06-01T19:34:55.286503Z"
    }
   },
   "outputs": [
    {
     "data": {
      "text/plain": [
       "[14641, 14884, 15129, 15376, 16641]"
      ]
     },
     "execution_count": 8,
     "metadata": {},
     "output_type": "execute_result"
    }
   ],
   "source": [
    "list(map(square, data))"
   ]
  },
  {
   "cell_type": "markdown",
   "metadata": {},
   "source": [
    "Using `map` has clear-cut advantages in readability when you already know you'll need to apply a function to the iterable you'll be looping over. Compare:"
   ]
  },
  {
   "cell_type": "code",
   "execution_count": 9,
   "metadata": {
    "ExecuteTime": {
     "end_time": "2018-06-01T19:34:55.336503Z",
     "start_time": "2018-06-01T19:34:55.316503Z"
    }
   },
   "outputs": [
    {
     "name": "stdout",
     "output_type": "stream",
     "text": [
      "15129\n",
      "15376\n",
      "16641\n"
     ]
    }
   ],
   "source": [
    "for i in data:\n",
    "    n = square(i)\n",
    "    if n > 15000:\n",
    "        # Do stuff\n",
    "        print(i)"
   ]
  },
  {
   "cell_type": "markdown",
   "metadata": {
    "ExecuteTime": {
     "end_time": "2018-05-30T18:27:06.912271Z",
     "start_time": "2018-05-30T18:27:06.897271Z"
    }
   },
   "source": [
    "To `map`:"
   ]
  },
  {
   "cell_type": "code",
   "execution_count": 10,
   "metadata": {
    "ExecuteTime": {
     "end_time": "2018-06-01T19:34:55.356503Z",
     "start_time": "2018-06-01T19:34:55.336503Z"
    }
   },
   "outputs": [
    {
     "name": "stdout",
     "output_type": "stream",
     "text": [
      "15129\n",
      "15376\n",
      "16641\n"
     ]
    }
   ],
   "source": [
    "for n in map(square, data):\n",
    "    if n > 15000:\n",
    "        # Do stuff\n",
    "        print(i)"
   ]
  },
  {
   "cell_type": "markdown",
   "metadata": {},
   "source": [
    "Or even more tersely, with a list comprehension. To me, this is clear and concise code, that does not need any comments, and is easy to maintain."
   ]
  },
  {
   "cell_type": "code",
   "execution_count": 11,
   "metadata": {
    "ExecuteTime": {
     "end_time": "2018-06-01T19:34:55.376502Z",
     "start_time": "2018-06-01T19:34:55.356503Z"
    }
   },
   "outputs": [
    {
     "name": "stdout",
     "output_type": "stream",
     "text": [
      "[15129, 15376, 16641]\n"
     ]
    }
   ],
   "source": [
    "print([n for n in map(square, data) if n > 15000])"
   ]
  },
  {
   "cell_type": "markdown",
   "metadata": {},
   "source": [
    "## Benchmarks\n",
    "### Is `map` faster than a list comprehension?\n",
    "As `map` is used to apply a function to every member in an iterable, there are a lot of similarities with Python list comprehensions, which can easily do the same. For example, here is a simple list comprehension:\n",
    "\n",
    "    x = [square(n) for n in range(100)]\n",
    "    \n",
    "Which would return a list of the square of all numbers from 0 to 99.\n",
    "\n",
    "But is one method faster than the other? Let's map a simple function over a very large array and get its sum."
   ]
  },
  {
   "cell_type": "code",
   "execution_count": 12,
   "metadata": {
    "ExecuteTime": {
     "end_time": "2018-06-01T19:35:40.227054Z",
     "start_time": "2018-06-01T19:34:55.386502Z"
    }
   },
   "outputs": [
    {
     "data": {
      "text/html": [
       "<div>\n",
       "<style scoped>\n",
       "    .dataframe tbody tr th:only-of-type {\n",
       "        vertical-align: middle;\n",
       "    }\n",
       "\n",
       "    .dataframe tbody tr th {\n",
       "        vertical-align: top;\n",
       "    }\n",
       "\n",
       "    .dataframe thead th {\n",
       "        text-align: right;\n",
       "    }\n",
       "</style>\n",
       "<table border=\"1\" class=\"dataframe\">\n",
       "  <thead>\n",
       "    <tr style=\"text-align: right;\">\n",
       "      <th></th>\n",
       "      <th>map</th>\n",
       "      <th>list_comp</th>\n",
       "    </tr>\n",
       "  </thead>\n",
       "  <tbody>\n",
       "    <tr>\n",
       "      <th>1024</th>\n",
       "      <td>0.000000</td>\n",
       "      <td>0.000000</td>\n",
       "    </tr>\n",
       "    <tr>\n",
       "      <th>2048</th>\n",
       "      <td>0.000000</td>\n",
       "      <td>0.000000</td>\n",
       "    </tr>\n",
       "    <tr>\n",
       "      <th>4096</th>\n",
       "      <td>0.000000</td>\n",
       "      <td>0.000000</td>\n",
       "    </tr>\n",
       "    <tr>\n",
       "      <th>8192</th>\n",
       "      <td>0.000000</td>\n",
       "      <td>0.000000</td>\n",
       "    </tr>\n",
       "    <tr>\n",
       "      <th>16384</th>\n",
       "      <td>0.000000</td>\n",
       "      <td>0.000000</td>\n",
       "    </tr>\n",
       "    <tr>\n",
       "      <th>32768</th>\n",
       "      <td>0.010000</td>\n",
       "      <td>0.010000</td>\n",
       "    </tr>\n",
       "    <tr>\n",
       "      <th>65536</th>\n",
       "      <td>0.010000</td>\n",
       "      <td>0.010000</td>\n",
       "    </tr>\n",
       "    <tr>\n",
       "      <th>131072</th>\n",
       "      <td>0.020000</td>\n",
       "      <td>0.020000</td>\n",
       "    </tr>\n",
       "    <tr>\n",
       "      <th>262144</th>\n",
       "      <td>0.059999</td>\n",
       "      <td>0.049999</td>\n",
       "    </tr>\n",
       "    <tr>\n",
       "      <th>524288</th>\n",
       "      <td>0.089999</td>\n",
       "      <td>0.099999</td>\n",
       "    </tr>\n",
       "    <tr>\n",
       "      <th>1048576</th>\n",
       "      <td>0.159998</td>\n",
       "      <td>0.199998</td>\n",
       "    </tr>\n",
       "    <tr>\n",
       "      <th>2097152</th>\n",
       "      <td>0.299997</td>\n",
       "      <td>0.399996</td>\n",
       "    </tr>\n",
       "    <tr>\n",
       "      <th>4194304</th>\n",
       "      <td>0.569994</td>\n",
       "      <td>0.779992</td>\n",
       "    </tr>\n",
       "    <tr>\n",
       "      <th>8388608</th>\n",
       "      <td>1.170988</td>\n",
       "      <td>1.619984</td>\n",
       "    </tr>\n",
       "    <tr>\n",
       "      <th>16777216</th>\n",
       "      <td>2.299977</td>\n",
       "      <td>3.149969</td>\n",
       "    </tr>\n",
       "    <tr>\n",
       "      <th>33554432</th>\n",
       "      <td>4.879951</td>\n",
       "      <td>6.439935</td>\n",
       "    </tr>\n",
       "    <tr>\n",
       "      <th>67108864</th>\n",
       "      <td>9.279907</td>\n",
       "      <td>13.139869</td>\n",
       "    </tr>\n",
       "  </tbody>\n",
       "</table>\n",
       "</div>"
      ],
      "text/plain": [
       "               map  list_comp\n",
       "1024      0.000000   0.000000\n",
       "2048      0.000000   0.000000\n",
       "4096      0.000000   0.000000\n",
       "8192      0.000000   0.000000\n",
       "16384     0.000000   0.000000\n",
       "32768     0.010000   0.010000\n",
       "65536     0.010000   0.010000\n",
       "131072    0.020000   0.020000\n",
       "262144    0.059999   0.049999\n",
       "524288    0.089999   0.099999\n",
       "1048576   0.159998   0.199998\n",
       "2097152   0.299997   0.399996\n",
       "4194304   0.569994   0.779992\n",
       "8388608   1.170988   1.619984\n",
       "16777216  2.299977   3.149969\n",
       "33554432  4.879951   6.439935\n",
       "67108864  9.279907  13.139869"
      ]
     },
     "execution_count": 12,
     "metadata": {},
     "output_type": "execute_result"
    }
   ],
   "source": [
    "def time_map(n):\n",
    "    t0 = time()\n",
    "    sum(map(square, range(n)))\n",
    "    return time() - t0\n",
    "\n",
    "\n",
    "def time_list_comp(n):\n",
    "    t0 = time()\n",
    "    # This is actually called a generator expression\n",
    "    # It does not generate the list items ahead of time\n",
    "    # Rather, items are calculated lazily, like `map`\n",
    "    sum(square(i) for i in range(n))\n",
    "    return time() - t0\n",
    "\n",
    "\n",
    "test_range = [2**x for x in range(10, 27)]\n",
    "times_map = [time_map(n) for n in test_range]\n",
    "times_list_comp = [time_list_comp(n) for n in test_range]\n",
    "\n",
    "df_map = pd.DataFrame([times_map, times_list_comp]).T\n",
    "df_map.columns = ['map', 'list_comp']\n",
    "df_map.index = test_range\n",
    "df_map"
   ]
  },
  {
   "cell_type": "code",
   "execution_count": 13,
   "metadata": {
    "ExecuteTime": {
     "end_time": "2018-06-01T19:35:41.107045Z",
     "start_time": "2018-06-01T19:35:40.227054Z"
    }
   },
   "outputs": [
    {
     "data": {
      "image/png": "[encoded data removed]",
      "text/plain": [
       "<matplotlib.figure.Figure at 0x907b748>"
      ]
     },
     "metadata": {},
     "output_type": "display_data"
    }
   ],
   "source": [
    "df_map.plot(logx=True)\n",
    "plt.title('Compute time for $\\sum_{x=0}^{2^{n}} x^{2}$, for $n$ in $[10, 26]$\\n')\n",
    "plt.xlabel('Number of list items (log)')\n",
    "plt.ylabel('Compute time (s)')\n",
    "plt.show()"
   ]
  },
  {
   "cell_type": "markdown",
   "metadata": {},
   "source": [
    "So clearly `map` is faster than a list comprehension, as much as 36% faster for our last head-to-head, with an iterable with over 67M records. Note that I've started with a range of 1024 items, anything smaller and the performance was basically identical.\n",
    "\n",
    ">**Heuristic**\n",
    "\n",
    "Based on this crude benchmark, using `map` instead of list comprehensions can make a difference **when iterables have around or above a million items**."
   ]
  },
  {
   "cell_type": "markdown",
   "metadata": {},
   "source": [
    "### `n * n` vs `n ** 2` vs `np.square`\n",
    "I see variations on this all the time in all-Python projects, and even though unrolling all expressions of $x^{2}$ as `n * n` might be harder to read in equation-heavy code, performance also matters, and it is probably best to standardize your codebase on one or the other.\n",
    "\n",
    "So, what's faster, `n * n` or `n ** 2`... or are they equivalent? And how do they compare to numpy?"
   ]
  },
  {
   "cell_type": "code",
   "execution_count": 14,
   "metadata": {
    "ExecuteTime": {
     "end_time": "2018-06-01T19:35:41.117045Z",
     "start_time": "2018-06-01T19:35:41.107045Z"
    }
   },
   "outputs": [],
   "source": [
    "def square(n):\n",
    "    return n * n\n",
    "\n",
    "\n",
    "def exp_2(n):\n",
    "    return n ** 2"
   ]
  },
  {
   "cell_type": "code",
   "execution_count": 15,
   "metadata": {
    "ExecuteTime": {
     "end_time": "2018-06-01T19:35:41.337043Z",
     "start_time": "2018-06-01T19:35:41.117045Z"
    }
   },
   "outputs": [
    {
     "name": "stdout",
     "output_type": "stream",
     "text": [
      "384306618446643195\n"
     ]
    }
   ],
   "source": [
    "test = range(3, 1024**2)\n",
    "print(sum(map(square, test)))"
   ]
  },
  {
   "cell_type": "code",
   "execution_count": 16,
   "metadata": {
    "ExecuteTime": {
     "end_time": "2018-06-01T19:35:53.396922Z",
     "start_time": "2018-06-01T19:35:41.337043Z"
    }
   },
   "outputs": [
    {
     "name": "stdout",
     "output_type": "stream",
     "text": [
      "148 ms ± 8.52 ms per loop (mean ± std. dev. of 7 runs, 10 loops each)\n"
     ]
    }
   ],
   "source": [
    "%%timeit\n",
    "sum(map(square, test))"
   ]
  },
  {
   "cell_type": "code",
   "execution_count": 17,
   "metadata": {
    "ExecuteTime": {
     "end_time": "2018-06-01T19:35:57.216884Z",
     "start_time": "2018-06-01T19:35:53.396922Z"
    }
   },
   "outputs": [
    {
     "name": "stdout",
     "output_type": "stream",
     "text": [
      "471 ms ± 34.9 ms per loop (mean ± std. dev. of 7 runs, 1 loop each)\n"
     ]
    }
   ],
   "source": [
    "%%timeit\n",
    "sum(map(exp_2, test))"
   ]
  },
  {
   "cell_type": "markdown",
   "metadata": {},
   "source": [
    "So almost 3 times faster."
   ]
  },
  {
   "cell_type": "markdown",
   "metadata": {},
   "source": [
    "#### Numpy\n",
    "That certainly settles it then... How does it compare to numpy?"
   ]
  },
  {
   "cell_type": "code",
   "execution_count": 18,
   "metadata": {
    "ExecuteTime": {
     "end_time": "2018-06-01T19:35:57.236884Z",
     "start_time": "2018-06-01T19:35:57.216884Z"
    }
   },
   "outputs": [],
   "source": [
    "test_np = np.arange(3, 1024**2)"
   ]
  },
  {
   "cell_type": "code",
   "execution_count": 19,
   "metadata": {
    "ExecuteTime": {
     "end_time": "2018-06-01T19:35:57.266884Z",
     "start_time": "2018-06-01T19:35:57.236884Z"
    }
   },
   "outputs": [
    {
     "data": {
      "text/plain": [
       "1431830523"
      ]
     },
     "execution_count": 19,
     "metadata": {},
     "output_type": "execute_result"
    }
   ],
   "source": [
    "np.sum(np.square(test_np))"
   ]
  },
  {
   "cell_type": "markdown",
   "metadata": {},
   "source": [
    ">**Aside**\n",
    "\n",
    "Well... I mean it was fast, but it's wrong! What's the matter here?"
   ]
  },
  {
   "cell_type": "code",
   "execution_count": 20,
   "metadata": {
    "ExecuteTime": {
     "end_time": "2018-06-01T19:35:57.286883Z",
     "start_time": "2018-06-01T19:35:57.266884Z"
    }
   },
   "outputs": [
    {
     "data": {
      "text/plain": [
       "array([      3,       4,       5, ..., 1048573, 1048574, 1048575])"
      ]
     },
     "execution_count": 20,
     "metadata": {},
     "output_type": "execute_result"
    }
   ],
   "source": [
    "test_np"
   ]
  },
  {
   "cell_type": "code",
   "execution_count": 21,
   "metadata": {
    "ExecuteTime": {
     "end_time": "2018-06-01T19:35:57.306883Z",
     "start_time": "2018-06-01T19:35:57.286883Z"
    }
   },
   "outputs": [
    {
     "data": {
      "text/plain": [
       "array([       9,       16,       25, ..., -6291447, -4194300, -2097151], dtype=int32)"
      ]
     },
     "execution_count": 21,
     "metadata": {},
     "output_type": "execute_result"
    }
   ],
   "source": [
    "np.square(test_np)"
   ]
  },
  {
   "cell_type": "markdown",
   "metadata": {},
   "source": [
    "There it is, we're using the [wrong data type](https://docs.scipy.org/doc/numpy/user/basics.types.html). Numpy needed to allocate a `dtype=uint32` or `dtype=int64` and didn't. Instead, it's interpreting the squared numbers as negative because of the large number limit.\n",
    "\n",
    ">**End Aside**\n",
    "\n",
    "So we'll need to get the dtype specific either with `np.square` or `np.arange`:"
   ]
  },
  {
   "cell_type": "code",
   "execution_count": 22,
   "metadata": {
    "ExecuteTime": {
     "end_time": "2018-06-01T19:36:02.366833Z",
     "start_time": "2018-06-01T19:35:57.306883Z"
    }
   },
   "outputs": [
    {
     "name": "stdout",
     "output_type": "stream",
     "text": [
      "6.14 ms ± 129 µs per loop (mean ± std. dev. of 7 runs, 100 loops each)\n"
     ]
    }
   ],
   "source": [
    "%%timeit\n",
    "# Can't cast np.square to `uint32` for some reason, but `int64` works fine\n",
    "np.sum(np.square(test_np, dtype='int64'))"
   ]
  },
  {
   "cell_type": "code",
   "execution_count": 23,
   "metadata": {
    "ExecuteTime": {
     "end_time": "2018-06-01T19:36:07.866778Z",
     "start_time": "2018-06-01T19:36:02.366833Z"
    }
   },
   "outputs": [
    {
     "name": "stdout",
     "output_type": "stream",
     "text": [
      "6.83 ms ± 550 µs per loop (mean ± std. dev. of 7 runs, 100 loops each)\n"
     ]
    }
   ],
   "source": [
    "%%timeit\n",
    "# Or we can specify `uint32` directly from np.arange\n",
    "np.sum(np.square(np.arange(3, 1024**2, dtype='uint32')))"
   ]
  },
  {
   "cell_type": "markdown",
   "metadata": {},
   "source": [
    "Which ends up being a whole **26 times faster** than the standard Python interpreter (cPython). "
   ]
  },
  {
   "cell_type": "markdown",
   "metadata": {},
   "source": [
    "### Benchmarks for exponentials\n",
    "That's fine for $n^{2}$, but what about other exponentials, say cubes? In other words, for integer-valued exponents from 1 to 15, how do these look when graphed?"
   ]
  },
  {
   "cell_type": "code",
   "execution_count": 24,
   "metadata": {
    "ExecuteTime": {
     "end_time": "2018-06-01T19:36:07.956777Z",
     "start_time": "2018-06-01T19:36:07.866778Z"
    }
   },
   "outputs": [],
   "source": [
    "def exponent_1(n, k):\n",
    "    \"\"\"Returns n (* n)... k-1 times\"\"\"\n",
    "    # This is pretty ugly but I don't know how to code it\n",
    "    # without eval(), which is super slow.\n",
    "    if k == 1:\n",
    "        return n\n",
    "    if k == 2:\n",
    "        return n * n\n",
    "    if k == 3:\n",
    "        return n * n * n\n",
    "    if k == 4:\n",
    "        return n * n * n * n\n",
    "    if k == 5:\n",
    "        return n * n * n * n * n\n",
    "    if k == 6:\n",
    "        return n * n * n * n * n * n\n",
    "    if k == 7:\n",
    "        return n * n * n * n * n * n * n\n",
    "    if k == 8:\n",
    "        return n * n * n * n * n * n * n * n\n",
    "    if k == 9:\n",
    "        return n * n * n * n * n * n * n * n * n\n",
    "    if k == 10:\n",
    "        return n * n * n * n * n * n * n * n * n * n\n",
    "    if k == 11:\n",
    "        return n * n * n * n * n * n * n * n * n * n * n\n",
    "    if k == 12:\n",
    "        return n * n * n * n * n * n * n * n * n * n * n * n\n",
    "    if k == 13:\n",
    "        return n * n * n * n * n * n * n * n * n * n * n * n * n\n",
    "    if k == 14:\n",
    "        return n * n * n * n * n * n * n * n * n * n * n * n * n * n\n",
    "    if k == 15:\n",
    "        return n * n * n * n * n * n * n * n * n * n * n * n * n * n * n\n",
    "    raise ValueError\n",
    "\n",
    "\n",
    "def exponent_2(n, k):\n",
    "    return n ** k"
   ]
  },
  {
   "cell_type": "markdown",
   "metadata": {},
   "source": [
    "For `map` calls with multiple arguments, the docs explicitly suggest this is the main use for `itertools.repeat`([See Stack Overflow post](https://stackoverflow.com/a/27025330/5531059)):\n",
    "\n",
    ">Make an iterator that returns object over and over again. Runs indefinitely unless the times argument is specified. Used as argument to `map()` for invariant parameters to the called function. Also used with `zip()` to create an invariant part of a tuple record."
   ]
  },
  {
   "cell_type": "code",
   "execution_count": 25,
   "metadata": {
    "ExecuteTime": {
     "end_time": "2018-06-01T19:36:27.246584Z",
     "start_time": "2018-06-01T19:36:07.956777Z"
    }
   },
   "outputs": [],
   "source": [
    "def time_exponent_1(k):\n",
    "    t0 = time()\n",
    "    sum(map(exponent_1, test, repeat(k)))\n",
    "    return time() - t0\n",
    "\n",
    "\n",
    "def time_exponent_2(k):\n",
    "    t0 = time()\n",
    "    sum(map(exponent_2, test, repeat(k)))\n",
    "    return time() - t0\n",
    "\n",
    "\n",
    "test = range(3, 1024**2)\n",
    "times_1 = [time_exponent_1(k) for k in range(1, 16)]\n",
    "times_2 = [time_exponent_2(k) for k in range(1, 16)]"
   ]
  },
  {
   "cell_type": "code",
   "execution_count": 26,
   "metadata": {
    "ExecuteTime": {
     "end_time": "2018-06-01T19:36:27.276583Z",
     "start_time": "2018-06-01T19:36:27.246584Z"
    }
   },
   "outputs": [
    {
     "data": {
      "text/html": [
       "<div>\n",
       "<style scoped>\n",
       "    .dataframe tbody tr th:only-of-type {\n",
       "        vertical-align: middle;\n",
       "    }\n",
       "\n",
       "    .dataframe tbody tr th {\n",
       "        vertical-align: top;\n",
       "    }\n",
       "\n",
       "    .dataframe thead th {\n",
       "        text-align: right;\n",
       "    }\n",
       "</style>\n",
       "<table border=\"1\" class=\"dataframe\">\n",
       "  <thead>\n",
       "    <tr style=\"text-align: right;\">\n",
       "      <th></th>\n",
       "      <th>n * n * ...</th>\n",
       "      <th>n ** k</th>\n",
       "    </tr>\n",
       "  </thead>\n",
       "  <tbody>\n",
       "    <tr>\n",
       "      <th>1</th>\n",
       "      <td>0.179998</td>\n",
       "      <td>0.509995</td>\n",
       "    </tr>\n",
       "    <tr>\n",
       "      <th>2</th>\n",
       "      <td>0.229998</td>\n",
       "      <td>0.499995</td>\n",
       "    </tr>\n",
       "    <tr>\n",
       "      <th>3</th>\n",
       "      <td>0.359996</td>\n",
       "      <td>0.509995</td>\n",
       "    </tr>\n",
       "    <tr>\n",
       "      <th>4</th>\n",
       "      <td>0.389996</td>\n",
       "      <td>0.589994</td>\n",
       "    </tr>\n",
       "    <tr>\n",
       "      <th>5</th>\n",
       "      <td>0.429996</td>\n",
       "      <td>0.559994</td>\n",
       "    </tr>\n",
       "  </tbody>\n",
       "</table>\n",
       "</div>"
      ],
      "text/plain": [
       "   n * n * ...    n ** k\n",
       "1     0.179998  0.509995\n",
       "2     0.229998  0.499995\n",
       "3     0.359996  0.509995\n",
       "4     0.389996  0.589994\n",
       "5     0.429996  0.559994"
      ]
     },
     "execution_count": 26,
     "metadata": {},
     "output_type": "execute_result"
    }
   ],
   "source": [
    "df = pd.DataFrame([times_1, times_2]).T\n",
    "df.columns = ['n * n * ...', 'n ** k']\n",
    "df.index = range(1, 16)\n",
    "df.head()"
   ]
  },
  {
   "cell_type": "code",
   "execution_count": 27,
   "metadata": {
    "ExecuteTime": {
     "end_time": "2018-06-01T19:36:27.526581Z",
     "start_time": "2018-06-01T19:36:27.276583Z"
    }
   },
   "outputs": [
    {
     "data": {
      "image/png": "[encoded data removed]",
      "text/plain": [
       "<matplotlib.figure.Figure at 0xab58fd0>"
      ]
     },
     "metadata": {},
     "output_type": "display_data"
    }
   ],
   "source": [
    "df.plot()\n",
    "plt.title('Compute time for $\\sum_{x=3}^{2^{20}} x^{n}$, for $n$ in $[1, 15]$\\n')\n",
    "plt.xlabel('k')\n",
    "plt.ylabel('secs')\n",
    "plt.show()"
   ]
  },
  {
   "cell_type": "markdown",
   "metadata": {},
   "source": [
    "So with this naive benchmark in place, it would seem as though `n * n * ...` is faster than `n ** k` for $k \\leq 7$, but that margin is slim for 5 to 7. In practice, one should probably only use `n * n * n * n * n * n * n` in extraordinary circumstances. Readability counts!\n",
    "\n",
    ">**Heuristic**\n",
    "\n",
    "Use `n * n * ...` for $n$ in $[2, 4]$."
   ]
  },
  {
   "cell_type": "markdown",
   "metadata": {},
   "source": [
    "## Conclusions\n",
    "Using `map` has clear advantages over other Python methods of applying functions to iterables, and can make your code more elegant and faster.\n",
    "\n",
    "When tuning for performance,\n",
    "\n",
    "1. Switch to `map` instead of list comprehensions for iterables with around a million items or more.\n",
    "2. Unless you really can't use numpy, use `n * n * ...` instead of `n**k`, for `k` in `[2, 4]`\n",
    "\n",
    "## Keep on reading!\n",
    "Next in the *Higher-level functions in Python* series we'll take a look at [the `reduce` function](higher-level-functions-python-reduce.html)."
   ]
  }
 ],
 "metadata": {
  "kernelspec": {
   "display_name": "Python 3",
   "language": "python",
   "name": "python3"
  },
  "language_info": {
   "codemirror_mode": {
    "name": "ipython",
    "version": 3
   },
   "file_extension": ".py",
   "mimetype": "text/x-python",
   "name": "python",
   "nbconvert_exporter": "python",
   "pygments_lexer": "ipython3",
   "version": "3.6.4"
  }
 },
 "nbformat": 4,
 "nbformat_minor": 2
}
