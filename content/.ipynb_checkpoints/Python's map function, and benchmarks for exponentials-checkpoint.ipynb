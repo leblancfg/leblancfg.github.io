{
 "cells": [
  {
   "cell_type": "markdown",
   "metadata": {},
   "source": [
    "Python provides a few functional programming functions in the standard library that can be quite useful:\n",
    "\n",
    "* map\n",
    "* filter\n",
    "* reduce\n",
    "* lambda\n",
    "* list comprehension\n",
    "\n",
    "In this notebook, we'll learn more about the `map` Python function. I will assume you already know about list expressions, but might not be so familiar with the other four. At first glance `map` seems a bit redundant. \n",
    "\n",
    "Playing with it though, we'll see that it can be used to tidy up your code, make it more readable, and even give performance gains when used with very large iterables due to its lazy evaluation."
   ]
  },
  {
   "cell_type": "code",
   "execution_count": 1,
   "metadata": {
    "ExecuteTime": {
     "end_time": "2018-05-30T20:10:09.038845Z",
     "start_time": "2018-05-30T20:10:07.968845Z"
    }
   },
   "outputs": [],
   "source": [
    "import numpy as np\n",
    "import pandas as pd\n",
    "import matplotlib.pyplot as plt\n",
    "import functools\n",
    "from itertools import repeat\n",
    "from time import time"
   ]
  },
  {
   "cell_type": "markdown",
   "metadata": {},
   "source": [
    "Let's create a simple function, which we'll use in these examples. `map` takes in a function and an iterable, and applies the first to the second. It returns a map iterator, that applies the function in turn for every item it contains. This language choice was made in order to save memory, and make loops slightly faster to process."
   ]
  },
  {
   "cell_type": "code",
   "execution_count": 2,
   "metadata": {
    "ExecuteTime": {
     "end_time": "2018-05-30T20:10:09.067845Z",
     "start_time": "2018-05-30T20:10:09.059845Z"
    }
   },
   "outputs": [
    {
     "name": "stdout",
     "output_type": "stream",
     "text": [
      "14641\n"
     ]
    }
   ],
   "source": [
    "def square(n):\n",
    "    return n * n\n",
    "\n",
    "\n",
    "print(square(121))"
   ]
  },
  {
   "cell_type": "code",
   "execution_count": 4,
   "metadata": {
    "ExecuteTime": {
     "end_time": "2018-05-30T20:10:09.083845Z",
     "start_time": "2018-05-30T20:10:09.072845Z"
    }
   },
   "outputs": [],
   "source": [
    "data = [121, 122, 123, 124, 129]"
   ]
  },
  {
   "cell_type": "code",
   "execution_count": 5,
   "metadata": {
    "ExecuteTime": {
     "end_time": "2018-05-30T20:10:09.101845Z",
     "start_time": "2018-05-30T20:10:09.087845Z"
    }
   },
   "outputs": [
    {
     "data": {
      "text/plain": [
       "[14641, 14884, 15129, 15376, 16641]"
      ]
     },
     "execution_count": 5,
     "metadata": {},
     "output_type": "execute_result"
    }
   ],
   "source": [
    "# Calling map(func, iterable) only defines the new iterable it creates.\n",
    "# To get the values, you need to cast it to a list.\n",
    "\n",
    "list(map(square, data))"
   ]
  },
  {
   "cell_type": "code",
   "execution_count": 6,
   "metadata": {
    "ExecuteTime": {
     "end_time": "2018-05-30T20:10:09.116845Z",
     "start_time": "2018-05-30T20:10:09.106845Z"
    }
   },
   "outputs": [
    {
     "data": {
      "text/plain": [
       "[14641, 14884, 15129, 15376, 16641]"
      ]
     },
     "execution_count": 6,
     "metadata": {},
     "output_type": "execute_result"
    }
   ],
   "source": [
    "# Of course, the same can be done with list comprehensions\n",
    "[square(i) for i in data]"
   ]
  },
  {
   "cell_type": "code",
   "execution_count": 7,
   "metadata": {
    "ExecuteTime": {
     "end_time": "2018-05-30T20:10:09.135845Z",
     "start_time": "2018-05-30T20:10:09.121845Z"
    }
   },
   "outputs": [
    {
     "data": {
      "text/plain": [
       "[14641, 14884, 15129, 15376, 16641]"
      ]
     },
     "execution_count": 7,
     "metadata": {},
     "output_type": "execute_result"
    }
   ],
   "source": [
    "# Or traditional loops\n",
    "square_data = []\n",
    "for i in data:\n",
    "    square_data.append(square(i))\n",
    "square_data"
   ]
  },
  {
   "cell_type": "markdown",
   "metadata": {},
   "source": [
    "Using `map` has clear-cut advantages in readability when you already know you'll need to apply a function to the iterable you'll be looping over. Compare:"
   ]
  },
  {
   "cell_type": "code",
   "execution_count": 8,
   "metadata": {
    "ExecuteTime": {
     "end_time": "2018-05-30T20:10:09.161845Z",
     "start_time": "2018-05-30T20:10:09.140845Z"
    }
   },
   "outputs": [
    {
     "name": "stdout",
     "output_type": "stream",
     "text": [
      "15129\n",
      "15376\n",
      "16641\n"
     ]
    }
   ],
   "source": [
    "for i in data:\n",
    "    i = square(i)\n",
    "    if i > 15000:\n",
    "        # Do stuff\n",
    "        print(i)"
   ]
  },
  {
   "cell_type": "markdown",
   "metadata": {
    "ExecuteTime": {
     "end_time": "2018-05-30T18:27:06.912271Z",
     "start_time": "2018-05-30T18:27:06.897271Z"
    }
   },
   "source": [
    "To `map`:"
   ]
  },
  {
   "cell_type": "code",
   "execution_count": 9,
   "metadata": {
    "ExecuteTime": {
     "end_time": "2018-05-30T20:10:09.180845Z",
     "start_time": "2018-05-30T20:10:09.165845Z"
    }
   },
   "outputs": [
    {
     "name": "stdout",
     "output_type": "stream",
     "text": [
      "15129\n",
      "15376\n",
      "16641\n"
     ]
    }
   ],
   "source": [
    "for i in map(square, data):\n",
    "    if i > 15000:\n",
    "        # Do stuff\n",
    "        print(i)"
   ]
  },
  {
   "cell_type": "markdown",
   "metadata": {},
   "source": [
    "Or list comprehensions"
   ]
  },
  {
   "cell_type": "code",
   "execution_count": 10,
   "metadata": {
    "ExecuteTime": {
     "end_time": "2018-05-30T20:10:09.197845Z",
     "start_time": "2018-05-30T20:10:09.184845Z"
    }
   },
   "outputs": [
    {
     "name": "stdout",
     "output_type": "stream",
     "text": [
      "[15129, 15376, 16641]\n"
     ]
    }
   ],
   "source": [
    "print([i for i in map(square, data) if i > 15000])"
   ]
  },
  {
   "cell_type": "markdown",
   "metadata": {},
   "source": [
    "## Benchmarks\n",
    "### Is `map` faster than a list comprehension?\n",
    "As `map` is used to apply a function to every member in an iterable, there are a lot of similarities with Python list comprehensions, which can easily do the same. For example, here is a simple list comprehension:\n",
    "\n",
    "    x = [square(n) for n in range(100)]\n",
    "    \n",
    "Which would return a list of the square of all numbers from 0 to 99.\n",
    "\n",
    "But is one method faster than the other? Let's map a simple function over a very large array and get its sum."
   ]
  },
  {
   "cell_type": "code",
   "execution_count": 11,
   "metadata": {
    "ExecuteTime": {
     "end_time": "2018-05-30T20:11:01.010411Z",
     "start_time": "2018-05-30T20:10:09.200845Z"
    }
   },
   "outputs": [
    {
     "data": {
      "text/html": [
       "<div>\n",
       "<style scoped>\n",
       "    .dataframe tbody tr th:only-of-type {\n",
       "        vertical-align: middle;\n",
       "    }\n",
       "\n",
       "    .dataframe tbody tr th {\n",
       "        vertical-align: top;\n",
       "    }\n",
       "\n",
       "    .dataframe thead th {\n",
       "        text-align: right;\n",
       "    }\n",
       "</style>\n",
       "<table border=\"1\" class=\"dataframe\">\n",
       "  <thead>\n",
       "    <tr style=\"text-align: right;\">\n",
       "      <th></th>\n",
       "      <th>map</th>\n",
       "      <th>list_comp</th>\n",
       "    </tr>\n",
       "  </thead>\n",
       "  <tbody>\n",
       "    <tr>\n",
       "      <th>1024</th>\n",
       "      <td>0.001</td>\n",
       "      <td>0.000</td>\n",
       "    </tr>\n",
       "    <tr>\n",
       "      <th>2048</th>\n",
       "      <td>0.000</td>\n",
       "      <td>0.000</td>\n",
       "    </tr>\n",
       "    <tr>\n",
       "      <th>4096</th>\n",
       "      <td>0.001</td>\n",
       "      <td>0.001</td>\n",
       "    </tr>\n",
       "    <tr>\n",
       "      <th>8192</th>\n",
       "      <td>0.001</td>\n",
       "      <td>0.002</td>\n",
       "    </tr>\n",
       "    <tr>\n",
       "      <th>16384</th>\n",
       "      <td>0.002</td>\n",
       "      <td>0.004</td>\n",
       "    </tr>\n",
       "  </tbody>\n",
       "</table>\n",
       "</div>"
      ],
      "text/plain": [
       "         map  list_comp\n",
       "1024   0.001      0.000\n",
       "2048   0.000      0.000\n",
       "4096   0.001      0.001\n",
       "8192   0.001      0.002\n",
       "16384  0.002      0.004"
      ]
     },
     "execution_count": 11,
     "metadata": {},
     "output_type": "execute_result"
    }
   ],
   "source": [
    "def time_map(n):\n",
    "    t0 = time()\n",
    "    sum(map(square, range(n)))\n",
    "    return time() - t0\n",
    "\n",
    "\n",
    "def time_list_comp(n):\n",
    "    t0 = time()\n",
    "    # This is actually called a generator expression\n",
    "    # It does not generate the list items ahead of time\n",
    "    # Rather, items are calculated lazily, like `map`\n",
    "    sum(square(i) for i in range(n))\n",
    "    return time() - t0\n",
    "\n",
    "\n",
    "test_range = [2**x for x in range(10, 27)]\n",
    "times_map = [time_map(n) for n in test_range]\n",
    "times_list_comp = [time_list_comp(n) for n in test_range]\n",
    "\n",
    "df_map = pd.DataFrame([times_map, times_list_comp]).T\n",
    "df_map.columns = ['map', 'list_comp']\n",
    "df_map.index = test_range\n",
    "df_map"
   ]
  },
  {
   "cell_type": "code",
   "execution_count": 29,
   "metadata": {
    "ExecuteTime": {
     "end_time": "2018-05-30T20:17:53.772374Z",
     "start_time": "2018-05-30T20:17:53.319374Z"
    }
   },
   "outputs": [
    {
     "data": {
      "image/png": "[encoded data removed]",
      "text/plain": [
       "<matplotlib.figure.Figure at 0x91cb0b8>"
      ]
     },
     "metadata": {},
     "output_type": "display_data"
    }
   ],
   "source": [
    "df_map.plot(logx=True)\n",
    "plt.title('Compute time for $\\sum_{x=0}^{2^{n}} x^{2}$, for $n$ in $[10, 26]$\\n')\n",
    "plt.xlabel('Number of list items (log)')\n",
    "plt.ylabel('Compute time (s)')\n",
    "plt.show()"
   ]
  },
  {
   "cell_type": "markdown",
   "metadata": {},
   "source": [
    "So clearly `map` is faster than a list comprehension, as much as 36% faster for our last head-to-head, with an iterable with over 67M records. Note that I've started with a range of 1024 items, anything smaller and the performance was basically identical.\n",
    "\n",
    ">**Heuristic**\n",
    "\n",
    "Based on this crude benchmark, using `map` instead of list comprehensions can make a difference **when iterables have around or above a million items**."
   ]
  },
  {
   "cell_type": "markdown",
   "metadata": {},
   "source": [
    "### `n * n` vs `n ** 2` vs `np.square`\n",
    "I see variations on this all the time in all-Python projects, and even though unrolling all expressions of $x^{2}$ as `n * n` might be harder to read in equation-heavy code, performance also matters, and it is probably best to standardize your codebase on one or the other.\n",
    "\n",
    "So, what's faster, `n * n` or `n ** 2`... or are they equivalent? And how do they compare to numpy?"
   ]
  },
  {
   "cell_type": "code",
   "execution_count": 14,
   "metadata": {
    "ExecuteTime": {
     "end_time": "2018-05-30T20:11:01.886411Z",
     "start_time": "2018-05-30T20:11:01.880411Z"
    }
   },
   "outputs": [],
   "source": [
    "def square(n):\n",
    "    return n * n\n",
    "\n",
    "\n",
    "def exp_2(n):\n",
    "    return n ** 2"
   ]
  },
  {
   "cell_type": "code",
   "execution_count": 15,
   "metadata": {
    "ExecuteTime": {
     "end_time": "2018-05-30T20:11:02.074411Z",
     "start_time": "2018-05-30T20:11:01.891411Z"
    }
   },
   "outputs": [
    {
     "name": "stdout",
     "output_type": "stream",
     "text": [
      "384306618446643195\n"
     ]
    }
   ],
   "source": [
    "test = range(3, 1024**2)\n",
    "print(sum(map(square, test)))"
   ]
  },
  {
   "cell_type": "code",
   "execution_count": 16,
   "metadata": {
    "ExecuteTime": {
     "end_time": "2018-05-30T20:11:15.005411Z",
     "start_time": "2018-05-30T20:11:02.077411Z"
    }
   },
   "outputs": [
    {
     "name": "stdout",
     "output_type": "stream",
     "text": [
      "159 ms ± 7.22 ms per loop (mean ± std. dev. of 7 runs, 10 loops each)\n"
     ]
    }
   ],
   "source": [
    "%%timeit\n",
    "sum(map(square, test))"
   ]
  },
  {
   "cell_type": "code",
   "execution_count": 17,
   "metadata": {
    "ExecuteTime": {
     "end_time": "2018-05-30T20:11:19.392411Z",
     "start_time": "2018-05-30T20:11:15.008411Z"
    }
   },
   "outputs": [
    {
     "name": "stdout",
     "output_type": "stream",
     "text": [
      "548 ms ± 51.6 ms per loop (mean ± std. dev. of 7 runs, 1 loop each)\n"
     ]
    }
   ],
   "source": [
    "%%timeit\n",
    "sum(map(exp_2, test))"
   ]
  },
  {
   "cell_type": "markdown",
   "metadata": {},
   "source": [
    "So almost 3 times faster."
   ]
  },
  {
   "cell_type": "markdown",
   "metadata": {},
   "source": [
    "#### Numpy\n",
    "That certainly settles it then... How does it compare to numpy?"
   ]
  },
  {
   "cell_type": "code",
   "execution_count": 18,
   "metadata": {
    "ExecuteTime": {
     "end_time": "2018-05-30T20:11:19.410411Z",
     "start_time": "2018-05-30T20:11:19.399411Z"
    }
   },
   "outputs": [],
   "source": [
    "test_np = np.arange(3, 1024**2)"
   ]
  },
  {
   "cell_type": "code",
   "execution_count": 19,
   "metadata": {
    "ExecuteTime": {
     "end_time": "2018-05-30T20:11:19.444411Z",
     "start_time": "2018-05-30T20:11:19.413411Z"
    }
   },
   "outputs": [
    {
     "data": {
      "text/plain": [
       "1431830523"
      ]
     },
     "execution_count": 19,
     "metadata": {},
     "output_type": "execute_result"
    }
   ],
   "source": [
    "np.sum(np.square(test_np))"
   ]
  },
  {
   "cell_type": "markdown",
   "metadata": {},
   "source": [
    ">**ASIDE**\n",
    "\n",
    "Well... I mean it was fast, but it's wrong! What's the matter here?"
   ]
  },
  {
   "cell_type": "code",
   "execution_count": 20,
   "metadata": {
    "ExecuteTime": {
     "end_time": "2018-05-30T20:11:19.462411Z",
     "start_time": "2018-05-30T20:11:19.450411Z"
    }
   },
   "outputs": [
    {
     "data": {
      "text/plain": [
       "array([      3,       4,       5, ..., 1048573, 1048574, 1048575])"
      ]
     },
     "execution_count": 20,
     "metadata": {},
     "output_type": "execute_result"
    }
   ],
   "source": [
    "test_np"
   ]
  },
  {
   "cell_type": "code",
   "execution_count": 21,
   "metadata": {
    "ExecuteTime": {
     "end_time": "2018-05-30T20:11:19.490411Z",
     "start_time": "2018-05-30T20:11:19.469411Z"
    }
   },
   "outputs": [
    {
     "data": {
      "text/plain": [
       "array([       9,       16,       25, ..., -6291447, -4194300, -2097151], dtype=int32)"
      ]
     },
     "execution_count": 21,
     "metadata": {},
     "output_type": "execute_result"
    }
   ],
   "source": [
    "np.square(test_np)"
   ]
  },
  {
   "cell_type": "markdown",
   "metadata": {},
   "source": [
    "There it is, we're using the [wrong data type](https://docs.scipy.org/doc/numpy/user/basics.types.html). Numpy needed to allocate a `dtype=uint32` or `dtype=int64` and didn't. Instead, it's interpreting the squared numbers as negative because of the large number limit.\n",
    "\n",
    ">**END ASIDE**\n",
    "\n",
    "So we'll need to get the dtype specific either with `np.square` or `np.arange`:"
   ]
  },
  {
   "cell_type": "code",
   "execution_count": 22,
   "metadata": {
    "ExecuteTime": {
     "end_time": "2018-05-30T20:11:25.511411Z",
     "start_time": "2018-05-30T20:11:19.499411Z"
    }
   },
   "outputs": [
    {
     "name": "stdout",
     "output_type": "stream",
     "text": [
      "7.17 ms ± 569 µs per loop (mean ± std. dev. of 7 runs, 100 loops each)\n"
     ]
    }
   ],
   "source": [
    "%%timeit\n",
    "# Can't cast np.square to `uint32` for some reason, but `int64` works fine\n",
    "np.sum(np.square(test_np, dtype='int64'))"
   ]
  },
  {
   "cell_type": "code",
   "execution_count": 23,
   "metadata": {
    "ExecuteTime": {
     "end_time": "2018-05-30T20:11:30.918411Z",
     "start_time": "2018-05-30T20:11:25.515411Z"
    }
   },
   "outputs": [
    {
     "name": "stdout",
     "output_type": "stream",
     "text": [
      "6.55 ms ± 532 µs per loop (mean ± std. dev. of 7 runs, 100 loops each)\n"
     ]
    }
   ],
   "source": [
    "%%timeit\n",
    "# Or we can specify `uint32` directly from np.arange\n",
    "np.sum(np.square(np.arange(3, 1024**2, dtype='uint32')))"
   ]
  },
  {
   "cell_type": "markdown",
   "metadata": {},
   "source": [
    "Which ends up being a whole **26 times faster** than the standard Python interpreter (cPython). "
   ]
  },
  {
   "cell_type": "markdown",
   "metadata": {},
   "source": [
    "### Benchmarks for exponentials\n",
    "That's fine for $n^{2}$, but what about other exponentials, say cubes? In other words, for integer-valued exponents from 1 to 15, how do these look when graphed?"
   ]
  },
  {
   "cell_type": "code",
   "execution_count": 24,
   "metadata": {
    "ExecuteTime": {
     "end_time": "2018-05-30T20:11:30.986411Z",
     "start_time": "2018-05-30T20:11:30.923411Z"
    }
   },
   "outputs": [],
   "source": [
    "def exponent_1(n, k):\n",
    "    \"\"\"Returns n (* n)... k-1 times\"\"\"\n",
    "    # This is super fugly but I don't know how to code it\n",
    "    # without eval(), which is super slow.\n",
    "    if k == 1:\n",
    "        return n\n",
    "    if k == 2:\n",
    "        return n * n\n",
    "    if k == 3:\n",
    "        return n * n * n\n",
    "    if k == 4:\n",
    "        return n * n * n * n\n",
    "    if k == 5:\n",
    "        return n * n * n * n * n\n",
    "    if k == 6:\n",
    "        return n * n * n * n * n * n\n",
    "    if k == 7:\n",
    "        return n * n * n * n * n * n * n\n",
    "    if k == 8:\n",
    "        return n * n * n * n * n * n * n * n\n",
    "    if k == 9:\n",
    "        return n * n * n * n * n * n * n * n * n\n",
    "    if k == 10:\n",
    "        return n * n * n * n * n * n * n * n * n * n\n",
    "    if k == 11:\n",
    "        return n * n * n * n * n * n * n * n * n * n * n\n",
    "    if k == 12:\n",
    "        return n * n * n * n * n * n * n * n * n * n * n * n\n",
    "    if k == 13:\n",
    "        return n * n * n * n * n * n * n * n * n * n * n * n * n\n",
    "    if k == 14:\n",
    "        return n * n * n * n * n * n * n * n * n * n * n * n * n * n\n",
    "    if k == 15:\n",
    "        return n * n * n * n * n * n * n * n * n * n * n * n * n * n * n\n",
    "    raise ValueError\n",
    "\n",
    "\n",
    "def exponent_2(n, k):\n",
    "    return n ** k"
   ]
  },
  {
   "cell_type": "markdown",
   "metadata": {},
   "source": [
    "For `map` calls with multiple arguments, the docs explicitly suggest this is the main use for `itertools.repeat`([See Stack Overflow post](https://stackoverflow.com/a/27025330/5531059)):\n",
    "\n",
    ">Make an iterator that returns object over and over again. Runs indefinitely unless the times argument is specified. Used as argument to `map()` for invariant parameters to the called function. Also used with `zip()` to create an invariant part of a tuple record."
   ]
  },
  {
   "cell_type": "code",
   "execution_count": 25,
   "metadata": {
    "ExecuteTime": {
     "end_time": "2018-05-30T20:11:52.012411Z",
     "start_time": "2018-05-30T20:11:30.989411Z"
    }
   },
   "outputs": [],
   "source": [
    "def time_exponent_1(k):\n",
    "    t0 = time()\n",
    "    sum(map(exponent_1, test, repeat(k)))\n",
    "    return time() - t0\n",
    "\n",
    "\n",
    "def time_exponent_2(k):\n",
    "    t0 = time()\n",
    "    sum(map(exponent_2, test, repeat(k)))\n",
    "    return time() - t0\n",
    "\n",
    "\n",
    "test = range(3, 1024**2)\n",
    "times_1 = [time_exponent_1(k) for k in range(1, 16)]\n",
    "times_2 = [time_exponent_2(k) for k in range(1, 16)]"
   ]
  },
  {
   "cell_type": "code",
   "execution_count": 26,
   "metadata": {
    "ExecuteTime": {
     "end_time": "2018-05-30T20:11:52.041411Z",
     "start_time": "2018-05-30T20:11:52.015411Z"
    }
   },
   "outputs": [
    {
     "data": {
      "text/html": [
       "<div>\n",
       "<style scoped>\n",
       "    .dataframe tbody tr th:only-of-type {\n",
       "        vertical-align: middle;\n",
       "    }\n",
       "\n",
       "    .dataframe tbody tr th {\n",
       "        vertical-align: top;\n",
       "    }\n",
       "\n",
       "    .dataframe thead th {\n",
       "        text-align: right;\n",
       "    }\n",
       "</style>\n",
       "<table border=\"1\" class=\"dataframe\">\n",
       "  <thead>\n",
       "    <tr style=\"text-align: right;\">\n",
       "      <th></th>\n",
       "      <th>n * n * ...</th>\n",
       "      <th>n ** k</th>\n",
       "    </tr>\n",
       "  </thead>\n",
       "  <tbody>\n",
       "    <tr>\n",
       "      <th>1</th>\n",
       "      <td>0.147</td>\n",
       "      <td>0.471</td>\n",
       "    </tr>\n",
       "    <tr>\n",
       "      <th>2</th>\n",
       "      <td>0.209</td>\n",
       "      <td>0.567</td>\n",
       "    </tr>\n",
       "    <tr>\n",
       "      <th>3</th>\n",
       "      <td>0.282</td>\n",
       "      <td>0.559</td>\n",
       "    </tr>\n",
       "    <tr>\n",
       "      <th>4</th>\n",
       "      <td>0.409</td>\n",
       "      <td>0.556</td>\n",
       "    </tr>\n",
       "    <tr>\n",
       "      <th>5</th>\n",
       "      <td>0.567</td>\n",
       "      <td>0.592</td>\n",
       "    </tr>\n",
       "  </tbody>\n",
       "</table>\n",
       "</div>"
      ],
      "text/plain": [
       "   n * n * ...  n ** k\n",
       "1        0.147   0.471\n",
       "2        0.209   0.567\n",
       "3        0.282   0.559\n",
       "4        0.409   0.556\n",
       "5        0.567   0.592"
      ]
     },
     "execution_count": 26,
     "metadata": {},
     "output_type": "execute_result"
    }
   ],
   "source": [
    "df = pd.DataFrame([times_1, times_2]).T\n",
    "df.columns = ['n * n * ...', 'n ** k']\n",
    "df.index = range(1, 16)\n",
    "df.head()"
   ]
  },
  {
   "cell_type": "code",
   "execution_count": 30,
   "metadata": {
    "ExecuteTime": {
     "end_time": "2018-05-30T20:19:22.572374Z",
     "start_time": "2018-05-30T20:19:22.231374Z"
    }
   },
   "outputs": [
    {
     "data": {
      "image/png": "[encoded data removed]",
      "text/plain": [
       "<matplotlib.figure.Figure at 0x9439860>"
      ]
     },
     "metadata": {},
     "output_type": "display_data"
    }
   ],
   "source": [
    "df.plot()\n",
    "plt.title('Compute time for $\\sum_{x=3}^{2^{20}} x^{n}$, for $n$ in $[1, 15]$\\n')\n",
    "plt.xlabel('k')\n",
    "plt.ylabel('secs')\n",
    "plt.show()"
   ]
  },
  {
   "cell_type": "markdown",
   "metadata": {},
   "source": [
    "So with this naive benchmark in place, it would seem as though `n * n * ...` is faster than `n ** k` for $k \\leq 7$, but that margin is slim for 5 to 7. In practice, one should probably only use `n * n * n * n * n * n * n` in extraordinary circumstances. Readability counts!\n",
    "\n",
    ">**Heuristic**\n",
    "\n",
    "Use `n * n * ...` for $n$ in $[2, 4]$."
   ]
  },
  {
   "cell_type": "markdown",
   "metadata": {},
   "source": [
    "## Conclusion\n",
    "Using `map` has clear advantages over other Python methods of applying functions to iterables, and can make your code more elegant and faster.\n",
    "\n",
    "When tuning for performance,\n",
    "\n",
    "1. Switch to `map` instead of list comprehensions for iterables with around a million items or more.\n",
    "2. Unless you really can't use numpy, use `n * n * ...` instead of `n**k`, for `k` in `[2, 4]`"
   ]
  }
 ],
 "metadata": {
  "kernelspec": {
   "display_name": "Python 3",
   "language": "python",
   "name": "python3"
  },
  "language_info": {
   "codemirror_mode": {
    "name": "ipython",
    "version": 3
   },
   "file_extension": ".py",
   "mimetype": "text/x-python",
   "name": "python",
   "nbconvert_exporter": "python",
   "pygments_lexer": "ipython3",
   "version": "3.6.4"
  }
 },
 "nbformat": 4,
 "nbformat_minor": 2
}
