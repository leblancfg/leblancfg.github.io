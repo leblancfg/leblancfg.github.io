{
 "cells": [
  {
   "cell_type": "markdown",
   "metadata": {},
   "source": [
    "# Speed tests for writing to MSSQL from pandas (ODBC)\n",
    "In this notebook, we'll be playing with various methods of writing data to a Microsoft SQL Server database. Compared to PostgreSQL, which I was using previously, the connection is approximately an order of magnitude slower. This is apparently a known issue. It boggles the mind why, and I might not be searching deep enough to understand the reasons for this, but it's something I can't work around.\n",
    "\n",
    "Trying to transmit larger volumes of data can also result in errors, as I get memory and connection timeout errors I typically was not having previously.\n",
    "\n",
    "According to some research, this is due to the ODBC Driver. Whether this is true or not, I do not know. The naive implementation for the `.to_sql()` method from the Pandas docs is:\n",
    "\n",
    "    df.to_sql(name,\n",
    "              con,\n",
    "              schema=None,\n",
    "              if_exists='fail',\n",
    "              index=True,\n",
    "              index_label=None,\n",
    "              chunksize=None,\n",
    "              method=None,\n",
    "             )\n",
    "\n",
    "## Options\n",
    "There are various ways known to speed up the process:\n",
    "\n",
    "1. Use the `method='multi'` parameter for the `to_sql()` method call\n",
    "2. Add the `execute_fastmany=True` parameter to the SQLAlchemy engine\n",
    "3. Use both methods 1 and 2\n",
    "4. Use `sqlalchemy_turbodbc` instead of vanilla SQLAlchemy\n",
    "5. Use `pymssql` instead of SQLAlchemy\n",
    "\n",
    "But so far none have been benchmarked for comparison. In this article, we will be juxtaposing these methods to find the best performance in order to write data from a pandas DataFrame to Microsoft SQL Server.\n",
    "\n",
    "## Failed implementations\n",
    "I also tried the following methods, but there was some issue or reason behind not including them in the list. This includes:\n",
    "\n",
    "0. `BULK INSERT`. A workaround we see a lot of in StackOverflow answers is to write your DataFrame to CSV and read it directly with BULK INSERT. I don't have those permissions on this database, so I won't include it. Feels definitely like something that **if you can do, you should try**.\n",
    "1. `turbodbc` + `fast_executemany`, as this method is not implemented for that SQLAlchemy dialect\n",
    "2. `pymssql` + `fast_executemany`, as this method is also not implemented for that SQLAlchemy dialect"
   ]
  },
  {
   "cell_type": "markdown",
   "metadata": {},
   "source": [
    "# Imports"
   ]
  },
  {
   "cell_type": "code",
   "execution_count": 1,
   "metadata": {},
   "outputs": [
    {
     "name": "stderr",
     "output_type": "stream",
     "text": [
      "C:\\Anaconda\\lib\\site-packages\\ipykernel_launcher.py:12: DeprecationWarning: Using or importing the ABCs from 'collections' instead of from 'collections.abc' is deprecated, and in 3.8 it will stop working\n",
      "  if sys.path[0] == '':\n"
     ]
    },
    {
     "data": {
      "application/javascript": [
       "\n",
       "            setTimeout(function() {\n",
       "                var nbb_cell_id = 1;\n",
       "                var nbb_formatted_code = \"%load_ext nb_black\\n\\nimport json\\nfrom os.path import expanduser\\nimport math\\nimport sys\\n\\nimport matplotlib.pyplot as plt\\nimport numpy as np\\nimport pandas as pd\\n\\nimport pymssql as ms\\nimport sqlalchemy as sql\\nimport sqlalchemy_turbodbc as st\";\n",
       "                var nbb_cells = Jupyter.notebook.get_cells();\n",
       "                for (var i = 0; i < nbb_cells.length; ++i) {\n",
       "                    if (nbb_cells[i].input_prompt_number == nbb_cell_id) {\n",
       "                        nbb_cells[i].set_text(nbb_formatted_code);\n",
       "                        break;\n",
       "                    }\n",
       "                }\n",
       "            }, 500);\n",
       "            "
      ],
      "text/plain": [
       "<IPython.core.display.Javascript object>"
      ]
     },
     "metadata": {},
     "output_type": "display_data"
    }
   ],
   "source": [
    "%load_ext nb_black\n",
    "\n",
    "import json\n",
    "from os.path import expanduser\n",
    "import math\n",
    "import sys\n",
    "\n",
    "import matplotlib.pyplot as plt\n",
    "import numpy as np\n",
    "import pandas as pd\n",
    "\n",
    "import pymssql as ms\n",
    "import sqlalchemy as sql\n",
    "import sqlalchemy_turbodbc as st"
   ]
  },
  {
   "cell_type": "markdown",
   "metadata": {},
   "source": [
    "We also needed to `pip install sqlalchemy_turbodbc pymssql`, which thankfully get detected when you load them as SQLAlchemy dialects."
   ]
  },
  {
   "cell_type": "markdown",
   "metadata": {},
   "source": [
    "# Versions"
   ]
  },
  {
   "cell_type": "code",
   "execution_count": 20,
   "metadata": {},
   "outputs": [
    {
     "name": "stdout",
     "output_type": "stream",
     "text": [
      "SQLAlchemy version: 1.3.5\n",
      "Pandas version 0.24.2\n",
      "Numpy version: 1.16.4\n",
      "pymssql version: 2.1.4\n",
      "No sqlalchemy_turbodbc version available\n"
     ]
    },
    {
     "data": {
      "application/javascript": [
       "\n",
       "            setTimeout(function() {\n",
       "                var nbb_cell_id = 20;\n",
       "                var nbb_formatted_code = \"print(\\\"SQLAlchemy version:\\\", sql.__version__)\\nprint(\\\"Pandas version\\\", pd.__version__)\\nprint(\\\"Numpy version:\\\", np.__version__)\\nprint(\\\"pymssql version:\\\", ms.__version__)\\ntry:\\n    print(st.__version__)\\nexcept AttributeError:\\n    print(\\\"No sqlalchemy_turbodbc version available\\\")\";\n",
       "                var nbb_cells = Jupyter.notebook.get_cells();\n",
       "                for (var i = 0; i < nbb_cells.length; ++i) {\n",
       "                    if (nbb_cells[i].input_prompt_number == nbb_cell_id) {\n",
       "                        nbb_cells[i].set_text(nbb_formatted_code);\n",
       "                        break;\n",
       "                    }\n",
       "                }\n",
       "            }, 500);\n",
       "            "
      ],
      "text/plain": [
       "<IPython.core.display.Javascript object>"
      ]
     },
     "metadata": {},
     "output_type": "display_data"
    }
   ],
   "source": [
    "print(\"SQLAlchemy version:\", sql.__version__)\n",
    "print(\"Pandas version\", pd.__version__)\n",
    "print(\"Numpy version:\", np.__version__)\n",
    "print(\"pymssql version:\", ms.__version__)\n",
    "try:\n",
    "    print(st.__version__)\n",
    "except AttributeError:\n",
    "    print(\"No sqlalchemy_turbodbc version available\")"
   ]
  },
  {
   "cell_type": "markdown",
   "metadata": {},
   "source": [
    "# Environment"
   ]
  },
  {
   "cell_type": "code",
   "execution_count": 3,
   "metadata": {},
   "outputs": [
    {
     "data": {
      "application/javascript": [
       "\n",
       "            setTimeout(function() {\n",
       "                var nbb_cell_id = 3;\n",
       "                var nbb_formatted_code = \"HOME = expanduser(\\\"~\\\")\\n\\nDRIVER = \\\"ODBC Driver 17 for SQL Server\\\"\\nDSN = \\\"<REDACTED>\\\"\\nDB = \\\"DS_DEV\\\"\\nTABLE = \\\"perftest\\\"\\n\\nconn_sqlalchemy = sql.create_engine(f\\\"mssql+pyodbc://{DSN}/{DB}?driver={DRIVER}\\\")\\nconn_executemany = sql.create_engine(\\n    f\\\"mssql+pyodbc://{DSN}/{DB}?driver={DRIVER}\\\", fast_executemany=True\\n)\\nconn_turbodbc = sql.create_engine(f\\\"mssql+turbodbc://{DSN}/{DB}?driver={DRIVER}\\\")\\nconn_pymssql = sql.create_engine(f\\\"mssql+pymssql://{DSN}/{DB}\\\")\";\n",
       "                var nbb_cells = Jupyter.notebook.get_cells();\n",
       "                for (var i = 0; i < nbb_cells.length; ++i) {\n",
       "                    if (nbb_cells[i].input_prompt_number == nbb_cell_id) {\n",
       "                        nbb_cells[i].set_text(nbb_formatted_code);\n",
       "                        break;\n",
       "                    }\n",
       "                }\n",
       "            }, 500);\n",
       "            "
      ],
      "text/plain": [
       "<IPython.core.display.Javascript object>"
      ]
     },
     "metadata": {},
     "output_type": "display_data"
    }
   ],
   "source": [
    "HOME = expanduser(\"~\")\n",
    "\n",
    "# Enterprise DB to be used\n",
    "DRIVER = \"ODBC Driver 17 for SQL Server\"\n",
    "DSN = \"tbsuatsql05\"\n",
    "DB = \"DS_DEV\"\n",
    "TABLE = \"perftest\"\n",
    "\n",
    "conn_sqlalchemy = sql.create_engine(f\"mssql+pyodbc://{DSN}/{DB}?driver={DRIVER}\")\n",
    "conn_executemany = sql.create_engine(\n",
    "    f\"mssql+pyodbc://{DSN}/{DB}?driver={DRIVER}\", fast_executemany=True\n",
    ")\n",
    "conn_turbodbc = sql.create_engine(f\"mssql+turbodbc://{DSN}/{DB}?driver={DRIVER}\")\n",
    "conn_pymssql = sql.create_engine(f\"mssql+pymssql://{DSN}/{DB}\")"
   ]
  },
  {
   "cell_type": "markdown",
   "metadata": {},
   "source": [
    "## Create dummy dataset\n",
    "We'll create somehing here that is sufficiently large to both have a large impact on write times, and that triggers the \"too many arguments\" error when trying to write with the `'multi'` parameter."
   ]
  },
  {
   "cell_type": "code",
   "execution_count": 4,
   "metadata": {},
   "outputs": [
    {
     "name": "stdout",
     "output_type": "stream",
     "text": [
      "DataFrame contains 10000 rows by 10 columns\n"
     ]
    },
    {
     "data": {
      "text/html": [
       "<div>\n",
       "<style scoped>\n",
       "    .dataframe tbody tr th:only-of-type {\n",
       "        vertical-align: middle;\n",
       "    }\n",
       "\n",
       "    .dataframe tbody tr th {\n",
       "        vertical-align: top;\n",
       "    }\n",
       "\n",
       "    .dataframe thead th {\n",
       "        text-align: right;\n",
       "    }\n",
       "</style>\n",
       "<table border=\"1\" class=\"dataframe\">\n",
       "  <thead>\n",
       "    <tr style=\"text-align: right;\">\n",
       "      <th></th>\n",
       "      <th>0</th>\n",
       "      <th>1</th>\n",
       "      <th>2</th>\n",
       "      <th>3</th>\n",
       "      <th>4</th>\n",
       "      <th>5</th>\n",
       "      <th>6</th>\n",
       "      <th>7</th>\n",
       "      <th>8</th>\n",
       "      <th>9</th>\n",
       "    </tr>\n",
       "  </thead>\n",
       "  <tbody>\n",
       "    <tr>\n",
       "      <th>0</th>\n",
       "      <td>0.607888</td>\n",
       "      <td>0.781212</td>\n",
       "      <td>0.675627</td>\n",
       "      <td>0.911531</td>\n",
       "      <td>0.441672</td>\n",
       "      <td>0.201854</td>\n",
       "      <td>0.466212</td>\n",
       "      <td>0.487489</td>\n",
       "      <td>0.233816</td>\n",
       "      <td>0.997825</td>\n",
       "    </tr>\n",
       "    <tr>\n",
       "      <th>1</th>\n",
       "      <td>0.365243</td>\n",
       "      <td>0.662150</td>\n",
       "      <td>0.374518</td>\n",
       "      <td>0.303049</td>\n",
       "      <td>0.718934</td>\n",
       "      <td>0.066836</td>\n",
       "      <td>0.659033</td>\n",
       "      <td>0.958759</td>\n",
       "      <td>0.821536</td>\n",
       "      <td>0.538544</td>\n",
       "    </tr>\n",
       "    <tr>\n",
       "      <th>2</th>\n",
       "      <td>0.640548</td>\n",
       "      <td>0.575734</td>\n",
       "      <td>0.856385</td>\n",
       "      <td>0.380706</td>\n",
       "      <td>0.125498</td>\n",
       "      <td>0.733077</td>\n",
       "      <td>0.186904</td>\n",
       "      <td>0.696862</td>\n",
       "      <td>0.452278</td>\n",
       "      <td>0.083290</td>\n",
       "    </tr>\n",
       "    <tr>\n",
       "      <th>3</th>\n",
       "      <td>0.466837</td>\n",
       "      <td>0.247153</td>\n",
       "      <td>0.387015</td>\n",
       "      <td>0.382428</td>\n",
       "      <td>0.290844</td>\n",
       "      <td>0.506672</td>\n",
       "      <td>0.551482</td>\n",
       "      <td>0.599074</td>\n",
       "      <td>0.527711</td>\n",
       "      <td>0.305163</td>\n",
       "    </tr>\n",
       "    <tr>\n",
       "      <th>4</th>\n",
       "      <td>0.923775</td>\n",
       "      <td>0.127416</td>\n",
       "      <td>0.085155</td>\n",
       "      <td>0.924849</td>\n",
       "      <td>0.925616</td>\n",
       "      <td>0.896660</td>\n",
       "      <td>0.982114</td>\n",
       "      <td>0.851376</td>\n",
       "      <td>0.672755</td>\n",
       "      <td>0.859688</td>\n",
       "    </tr>\n",
       "  </tbody>\n",
       "</table>\n",
       "</div>"
      ],
      "text/plain": [
       "          0         1         2         3         4         5         6  \\\n",
       "0  0.607888  0.781212  0.675627  0.911531  0.441672  0.201854  0.466212   \n",
       "1  0.365243  0.662150  0.374518  0.303049  0.718934  0.066836  0.659033   \n",
       "2  0.640548  0.575734  0.856385  0.380706  0.125498  0.733077  0.186904   \n",
       "3  0.466837  0.247153  0.387015  0.382428  0.290844  0.506672  0.551482   \n",
       "4  0.923775  0.127416  0.085155  0.924849  0.925616  0.896660  0.982114   \n",
       "\n",
       "          7         8         9  \n",
       "0  0.487489  0.233816  0.997825  \n",
       "1  0.958759  0.821536  0.538544  \n",
       "2  0.696862  0.452278  0.083290  \n",
       "3  0.599074  0.527711  0.305163  \n",
       "4  0.851376  0.672755  0.859688  "
      ]
     },
     "execution_count": 4,
     "metadata": {},
     "output_type": "execute_result"
    },
    {
     "data": {
      "application/javascript": [
       "\n",
       "            setTimeout(function() {\n",
       "                var nbb_cell_id = 4;\n",
       "                var nbb_formatted_code = \"df = pd.DataFrame(np.random.random((10 ** 4, 10)))\\nprint(\\\"DataFrame contains\\\", len(df), \\\"rows by\\\", len(df.columns), \\\"columns\\\")\\ndf.head()\";\n",
       "                var nbb_cells = Jupyter.notebook.get_cells();\n",
       "                for (var i = 0; i < nbb_cells.length; ++i) {\n",
       "                    if (nbb_cells[i].input_prompt_number == nbb_cell_id) {\n",
       "                        nbb_cells[i].set_text(nbb_formatted_code);\n",
       "                        break;\n",
       "                    }\n",
       "                }\n",
       "            }, 500);\n",
       "            "
      ],
      "text/plain": [
       "<IPython.core.display.Javascript object>"
      ]
     },
     "metadata": {},
     "output_type": "display_data"
    }
   ],
   "source": [
    "df = pd.DataFrame(np.random.random((10 ** 4, 10)))\n",
    "print(\"DataFrame contains\", len(df), \"rows by\", len(df.columns), \"columns\")\n",
    "df.head()"
   ]
  },
  {
   "cell_type": "code",
   "execution_count": 5,
   "metadata": {},
   "outputs": [
    {
     "name": "stdout",
     "output_type": "stream",
     "text": [
      "DataFrame is 0.8 MB\n"
     ]
    },
    {
     "data": {
      "application/javascript": [
       "\n",
       "            setTimeout(function() {\n",
       "                var nbb_cell_id = 5;\n",
       "                var nbb_formatted_code = \"print(\\\"DataFrame is\\\", round(sys.getsizeof(df) / 1024 ** 2, 1), \\\"MB\\\")\";\n",
       "                var nbb_cells = Jupyter.notebook.get_cells();\n",
       "                for (var i = 0; i < nbb_cells.length; ++i) {\n",
       "                    if (nbb_cells[i].input_prompt_number == nbb_cell_id) {\n",
       "                        nbb_cells[i].set_text(nbb_formatted_code);\n",
       "                        break;\n",
       "                    }\n",
       "                }\n",
       "            }, 500);\n",
       "            "
      ],
      "text/plain": [
       "<IPython.core.display.Javascript object>"
      ]
     },
     "metadata": {},
     "output_type": "display_data"
    }
   ],
   "source": [
    "print(\"DataFrame is\", round(sys.getsizeof(df) / 1024 ** 2, 1), \"MB\")"
   ]
  },
  {
   "cell_type": "markdown",
   "metadata": {},
   "source": [
    "# Results"
   ]
  },
  {
   "cell_type": "markdown",
   "metadata": {},
   "source": [
    "## Option 1 &mdash; Vanilla pandas"
   ]
  },
  {
   "cell_type": "code",
   "execution_count": 6,
   "metadata": {},
   "outputs": [
    {
     "name": "stdout",
     "output_type": "stream",
     "text": [
      "Wall time: 23.5 s\n"
     ]
    },
    {
     "data": {
      "application/javascript": [
       "\n",
       "            setTimeout(function() {\n",
       "                var nbb_cell_id = 6;\n",
       "                var nbb_formatted_code = \"%%time\\ndf.to_sql(TABLE, conn_sqlalchemy, index=False, if_exists='replace')\";\n",
       "                var nbb_cells = Jupyter.notebook.get_cells();\n",
       "                for (var i = 0; i < nbb_cells.length; ++i) {\n",
       "                    if (nbb_cells[i].input_prompt_number == nbb_cell_id) {\n",
       "                        nbb_cells[i].set_text(nbb_formatted_code);\n",
       "                        break;\n",
       "                    }\n",
       "                }\n",
       "            }, 500);\n",
       "            "
      ],
      "text/plain": [
       "<IPython.core.display.Javascript object>"
      ]
     },
     "metadata": {},
     "output_type": "display_data"
    }
   ],
   "source": [
    "%%time\n",
    "df.to_sql(TABLE, conn_sqlalchemy, index=False, if_exists='replace')"
   ]
  },
  {
   "cell_type": "markdown",
   "metadata": {},
   "source": [
    "## Option 2 &mdash; `df.to_sql(..., method='multi')`\n",
    "This method smashed the chunksize limit for MS SQL, so we have to break up the insert by chunks of 2100 parameters. Pandas has the `chunksize=2100` parameter, but unfortunately in our testing we get database errors I can't troubleshoot only using pandas.\n",
    "\n",
    "Instead, we'll build a little helper function to do this for us:"
   ]
  },
  {
   "cell_type": "code",
   "execution_count": 7,
   "metadata": {},
   "outputs": [
    {
     "data": {
      "application/javascript": [
       "\n",
       "            setTimeout(function() {\n",
       "                var nbb_cell_id = 7;\n",
       "                var nbb_formatted_code = \"def chunker(seq, size):\\n    return (seq[pos : pos + size] for pos in range(0, len(seq), size))\\n\\n\\ndef insert_with_progress(df, engine, table=\\\"\\\", schema=\\\"\\\"):\\n    con = engine.connect()\\n\\n    # Replace table\\n    engine.execute(f\\\"DROP TABLE IF EXISTS {schema}.{table};\\\")\\n\\n    # Insert with progress\\n    SQL_SERVER_CHUNK_LIMIT = 2099\\n    chunksize = math.floor(SQL_SERVER_CHUNK_LIMIT / len(df.columns))\\n\\n    for chunk in chunker(df, chunksize):\\n        chunk.to_sql(\\n            name=table,\\n            con=con,\\n            if_exists=\\\"append\\\",\\n            index=False,\\n            schema=schema,\\n            method=\\\"multi\\\",\\n        )\";\n",
       "                var nbb_cells = Jupyter.notebook.get_cells();\n",
       "                for (var i = 0; i < nbb_cells.length; ++i) {\n",
       "                    if (nbb_cells[i].input_prompt_number == nbb_cell_id) {\n",
       "                        nbb_cells[i].set_text(nbb_formatted_code);\n",
       "                        break;\n",
       "                    }\n",
       "                }\n",
       "            }, 500);\n",
       "            "
      ],
      "text/plain": [
       "<IPython.core.display.Javascript object>"
      ]
     },
     "metadata": {},
     "output_type": "display_data"
    }
   ],
   "source": [
    "def chunker(seq, size):\n",
    "    return (seq[pos : pos + size] for pos in range(0, len(seq), size))\n",
    "\n",
    "\n",
    "def insert_with_progress(df, engine, table=\"\", schema=\"\"):\n",
    "    con = engine.connect()\n",
    "\n",
    "    # Replace table\n",
    "    engine.execute(f\"DROP TABLE IF EXISTS {schema}.{table};\")\n",
    "\n",
    "    # Insert with progress\n",
    "    SQL_SERVER_CHUNK_LIMIT = 2099\n",
    "    chunksize = math.floor(SQL_SERVER_CHUNK_LIMIT / len(df.columns))\n",
    "\n",
    "    for chunk in chunker(df, chunksize):\n",
    "        chunk.to_sql(\n",
    "            name=table,\n",
    "            con=con,\n",
    "            if_exists=\"append\",\n",
    "            index=False,\n",
    "            schema=schema,\n",
    "            method=\"multi\",\n",
    "        )"
   ]
  },
  {
   "cell_type": "code",
   "execution_count": 8,
   "metadata": {},
   "outputs": [
    {
     "name": "stdout",
     "output_type": "stream",
     "text": [
      "Wall time: 3.09 s\n"
     ]
    },
    {
     "data": {
      "application/javascript": [
       "\n",
       "            setTimeout(function() {\n",
       "                var nbb_cell_id = 8;\n",
       "                var nbb_formatted_code = \"%%time\\n# Doing it like this errors out. Can't seem to be able to debug the straight pandas call.\\n# df.to_sql(TABLE, conn_sqlalchemy, index=False, if_exists='replace', method='multi', chunksize=2100)\\n\\ninsert_with_progress(df, conn_sqlalchemy, table=TABLE)\";\n",
       "                var nbb_cells = Jupyter.notebook.get_cells();\n",
       "                for (var i = 0; i < nbb_cells.length; ++i) {\n",
       "                    if (nbb_cells[i].input_prompt_number == nbb_cell_id) {\n",
       "                        nbb_cells[i].set_text(nbb_formatted_code);\n",
       "                        break;\n",
       "                    }\n",
       "                }\n",
       "            }, 500);\n",
       "            "
      ],
      "text/plain": [
       "<IPython.core.display.Javascript object>"
      ]
     },
     "metadata": {},
     "output_type": "display_data"
    }
   ],
   "source": [
    "%%time\n",
    "# Doing it like this errors out. Can't seem to be able to debug the straight pandas call.\n",
    "# df.to_sql(TABLE, conn_sqlalchemy, index=False, if_exists='replace', method='multi', chunksize=2100)\n",
    "\n",
    "insert_with_progress(df, conn_sqlalchemy, table=TABLE)"
   ]
  },
  {
   "cell_type": "markdown",
   "metadata": {},
   "source": [
    "## Option 3 &mdash; `fast_executemany=True`\n",
    "N.B. This is currently the recommended method in the pandas documentation."
   ]
  },
  {
   "cell_type": "code",
   "execution_count": 9,
   "metadata": {},
   "outputs": [
    {
     "name": "stdout",
     "output_type": "stream",
     "text": [
      "Wall time: 500 ms\n"
     ]
    },
    {
     "data": {
      "application/javascript": [
       "\n",
       "            setTimeout(function() {\n",
       "                var nbb_cell_id = 9;\n",
       "                var nbb_formatted_code = \"%%time\\ndf.to_sql(TABLE, conn_executemany, index=False, if_exists='replace')\";\n",
       "                var nbb_cells = Jupyter.notebook.get_cells();\n",
       "                for (var i = 0; i < nbb_cells.length; ++i) {\n",
       "                    if (nbb_cells[i].input_prompt_number == nbb_cell_id) {\n",
       "                        nbb_cells[i].set_text(nbb_formatted_code);\n",
       "                        break;\n",
       "                    }\n",
       "                }\n",
       "            }, 500);\n",
       "            "
      ],
      "text/plain": [
       "<IPython.core.display.Javascript object>"
      ]
     },
     "metadata": {},
     "output_type": "display_data"
    }
   ],
   "source": [
    "%%time\n",
    "df.to_sql(TABLE, conn_executemany, index=False, if_exists='replace')"
   ]
  },
  {
   "cell_type": "markdown",
   "metadata": {},
   "source": [
    "For a 0.8MB table this is still remarkably slow, but we're now ~50 x faster than vanilla!"
   ]
  },
  {
   "cell_type": "markdown",
   "metadata": {},
   "source": [
    "## Option 4 &mdash; `'multi'` + `fast_executemany`"
   ]
  },
  {
   "cell_type": "code",
   "execution_count": 10,
   "metadata": {},
   "outputs": [
    {
     "name": "stdout",
     "output_type": "stream",
     "text": [
      "Wall time: 3 s\n"
     ]
    },
    {
     "data": {
      "application/javascript": [
       "\n",
       "            setTimeout(function() {\n",
       "                var nbb_cell_id = 10;\n",
       "                var nbb_formatted_code = \"%%time\\ninsert_with_progress(df, conn_executemany, table=TABLE)\";\n",
       "                var nbb_cells = Jupyter.notebook.get_cells();\n",
       "                for (var i = 0; i < nbb_cells.length; ++i) {\n",
       "                    if (nbb_cells[i].input_prompt_number == nbb_cell_id) {\n",
       "                        nbb_cells[i].set_text(nbb_formatted_code);\n",
       "                        break;\n",
       "                    }\n",
       "                }\n",
       "            }, 500);\n",
       "            "
      ],
      "text/plain": [
       "<IPython.core.display.Javascript object>"
      ]
     },
     "metadata": {},
     "output_type": "display_data"
    }
   ],
   "source": [
    "%%time\n",
    "insert_with_progress(df, conn_executemany, table=TABLE)"
   ]
  },
  {
   "cell_type": "markdown",
   "metadata": {},
   "source": [
    "Oddly, these two methods to make things faster don't compound well! We get basically the same speed as with `'multi'`"
   ]
  },
  {
   "cell_type": "markdown",
   "metadata": {},
   "source": [
    "## Option 5 &mdash; sqlalchemy_turbodbc"
   ]
  },
  {
   "cell_type": "code",
   "execution_count": 11,
   "metadata": {},
   "outputs": [
    {
     "name": "stdout",
     "output_type": "stream",
     "text": [
      "Wall time: 1.17 s\n"
     ]
    },
    {
     "data": {
      "application/javascript": [
       "\n",
       "            setTimeout(function() {\n",
       "                var nbb_cell_id = 11;\n",
       "                var nbb_formatted_code = \"%%time\\ndf.to_sql(TABLE, conn_turbodbc, index=False, if_exists='replace')\";\n",
       "                var nbb_cells = Jupyter.notebook.get_cells();\n",
       "                for (var i = 0; i < nbb_cells.length; ++i) {\n",
       "                    if (nbb_cells[i].input_prompt_number == nbb_cell_id) {\n",
       "                        nbb_cells[i].set_text(nbb_formatted_code);\n",
       "                        break;\n",
       "                    }\n",
       "                }\n",
       "            }, 500);\n",
       "            "
      ],
      "text/plain": [
       "<IPython.core.display.Javascript object>"
      ]
     },
     "metadata": {},
     "output_type": "display_data"
    }
   ],
   "source": [
    "%%time\n",
    "df.to_sql(TABLE, conn_turbodbc, index=False, if_exists='replace')"
   ]
  },
  {
   "cell_type": "markdown",
   "metadata": {},
   "source": [
    "So, over a 20x speedup from the vanilla settings, but still 2-3x slower than with the `fast_executemany` option."
   ]
  },
  {
   "cell_type": "markdown",
   "metadata": {},
   "source": [
    "## Option 6 &mdash; sqlalchemy_turbodbc + `'multi'`\n",
    "`fast_executemany` is not available as an option when creating the engine, but we can still test with the `method='multi'` parameter."
   ]
  },
  {
   "cell_type": "code",
   "execution_count": 12,
   "metadata": {},
   "outputs": [
    {
     "name": "stdout",
     "output_type": "stream",
     "text": [
      "Wall time: 10.9 s\n"
     ]
    },
    {
     "data": {
      "application/javascript": [
       "\n",
       "            setTimeout(function() {\n",
       "                var nbb_cell_id = 12;\n",
       "                var nbb_formatted_code = \"%%time\\ninsert_with_progress(df, conn_turbodbc, table=TABLE)\";\n",
       "                var nbb_cells = Jupyter.notebook.get_cells();\n",
       "                for (var i = 0; i < nbb_cells.length; ++i) {\n",
       "                    if (nbb_cells[i].input_prompt_number == nbb_cell_id) {\n",
       "                        nbb_cells[i].set_text(nbb_formatted_code);\n",
       "                        break;\n",
       "                    }\n",
       "                }\n",
       "            }, 500);\n",
       "            "
      ],
      "text/plain": [
       "<IPython.core.display.Javascript object>"
      ]
     },
     "metadata": {},
     "output_type": "display_data"
    }
   ],
   "source": [
    "%%time\n",
    "insert_with_progress(df, conn_turbodbc, table=TABLE)"
   ]
  },
  {
   "cell_type": "markdown",
   "metadata": {},
   "source": [
    "## Option 7 &mdash; pymssql\n",
    "Another ODBC interface that pops up in the StackOverflow answers, this one doesn't quite seem to be up to snuff. Also doesn't have the `fast_executemany` option."
   ]
  },
  {
   "cell_type": "code",
   "execution_count": 13,
   "metadata": {
    "scrolled": false
   },
   "outputs": [
    {
     "name": "stdout",
     "output_type": "stream",
     "text": [
      "Wall time: 31.7 s\n"
     ]
    },
    {
     "data": {
      "application/javascript": [
       "\n",
       "            setTimeout(function() {\n",
       "                var nbb_cell_id = 13;\n",
       "                var nbb_formatted_code = \"%%time\\ndf.to_sql(TABLE, conn_pymssql, index=False, if_exists='replace')\";\n",
       "                var nbb_cells = Jupyter.notebook.get_cells();\n",
       "                for (var i = 0; i < nbb_cells.length; ++i) {\n",
       "                    if (nbb_cells[i].input_prompt_number == nbb_cell_id) {\n",
       "                        nbb_cells[i].set_text(nbb_formatted_code);\n",
       "                        break;\n",
       "                    }\n",
       "                }\n",
       "            }, 500);\n",
       "            "
      ],
      "text/plain": [
       "<IPython.core.display.Javascript object>"
      ]
     },
     "metadata": {},
     "output_type": "display_data"
    }
   ],
   "source": [
    "%%time\n",
    "df.to_sql(TABLE, conn_pymssql, index=False, if_exists='replace')"
   ]
  },
  {
   "cell_type": "markdown",
   "metadata": {},
   "source": [
    "## Option 8 &mdash; pymssql + `'multi'`"
   ]
  },
  {
   "cell_type": "code",
   "execution_count": 14,
   "metadata": {},
   "outputs": [
    {
     "name": "stdout",
     "output_type": "stream",
     "text": [
      "Wall time: 6.42 s\n"
     ]
    },
    {
     "data": {
      "application/javascript": [
       "\n",
       "            setTimeout(function() {\n",
       "                var nbb_cell_id = 14;\n",
       "                var nbb_formatted_code = \"%%time\\ninsert_with_progress(df, conn_pymssql, table=TABLE)\";\n",
       "                var nbb_cells = Jupyter.notebook.get_cells();\n",
       "                for (var i = 0; i < nbb_cells.length; ++i) {\n",
       "                    if (nbb_cells[i].input_prompt_number == nbb_cell_id) {\n",
       "                        nbb_cells[i].set_text(nbb_formatted_code);\n",
       "                        break;\n",
       "                    }\n",
       "                }\n",
       "            }, 500);\n",
       "            "
      ],
      "text/plain": [
       "<IPython.core.display.Javascript object>"
      ]
     },
     "metadata": {},
     "output_type": "display_data"
    }
   ],
   "source": [
    "%%time\n",
    "insert_with_progress(df, conn_pymssql, table=TABLE)"
   ]
  },
  {
   "cell_type": "markdown",
   "metadata": {},
   "source": [
    "# Analysis"
   ]
  },
  {
   "cell_type": "code",
   "execution_count": 21,
   "metadata": {},
   "outputs": [
    {
     "data": {
      "text/plain": [
       "<matplotlib.axes._subplots.AxesSubplot at 0x207eb2e48d0>"
      ]
     },
     "execution_count": 21,
     "metadata": {},
     "output_type": "execute_result"
    },
    {
     "data": {
      "image/png": "[encoded data removed]",
      "text/plain": [
       "<Figure size 432x288 with 1 Axes>"
      ]
     },
     "metadata": {
      "needs_background": "light"
     },
     "output_type": "display_data"
    },
    {
     "data": {
      "application/javascript": [
       "\n",
       "            setTimeout(function() {\n",
       "                var nbb_cell_id = 21;\n",
       "                var nbb_formatted_code = \"times = {\\n    \\\"vanilla\\\": 23.5,\\n    \\\"multi\\\": 3.09,\\n    \\\"fast_executemany\\\": 0.5,\\n    \\\"multi+fast\\\": 3,\\n    \\\"turbodbc\\\": 1.17,\\n    \\\"turbodbc+multi\\\": 10.9,\\n    \\\"pymssql\\\": 31.7,\\n    \\\"pymssql+multi\\\": 6.42,\\n}\\n\\n# We're done with the testing, so remove the testing table\\nconn_sqlalchemy.execute(f\\\"DROP TABLE IF EXISTS {TABLE};\\\")\\n\\n# Then plot the results\\ndf_times = pd.DataFrame.from_dict(times, orient=\\\"index\\\", columns=[\\\"time (s)\\\"])\\ndf_times[\\\"time (s)\\\"].sort_values().plot.bar(\\n    title=\\\"SQL Server write times (log)\\\\n(lower is better)\\\", logy=True\\n)\";\n",
       "                var nbb_cells = Jupyter.notebook.get_cells();\n",
       "                for (var i = 0; i < nbb_cells.length; ++i) {\n",
       "                    if (nbb_cells[i].input_prompt_number == nbb_cell_id) {\n",
       "                        nbb_cells[i].set_text(nbb_formatted_code);\n",
       "                        break;\n",
       "                    }\n",
       "                }\n",
       "            }, 500);\n",
       "            "
      ],
      "text/plain": [
       "<IPython.core.display.Javascript object>"
      ]
     },
     "metadata": {},
     "output_type": "display_data"
    }
   ],
   "source": [
    "times = {\n",
    "    \"vanilla\": 23.5,\n",
    "    \"multi\": 3.09,\n",
    "    \"fast_executemany\": 0.5,\n",
    "    \"multi+fast\": 3,\n",
    "    \"turbodbc\": 1.17,\n",
    "    \"turbodbc+multi\": 10.9,\n",
    "    \"pymssql\": 31.7,\n",
    "    \"pymssql+multi\": 6.42,\n",
    "}\n",
    "\n",
    "# We're done with the testing, so remove the testing table\n",
    "conn_sqlalchemy.execute(f\"DROP TABLE IF EXISTS {TABLE};\")\n",
    "\n",
    "# Then plot the results\n",
    "df_times = pd.DataFrame.from_dict(times, orient=\"index\", columns=[\"time (s)\"])\n",
    "df_times[\"time (s)\"].sort_values().plot.bar(\n",
    "    title=\"SQL Server write times (log)\\n(lower is better)\", logy=True\n",
    ")"
   ]
  },
  {
   "cell_type": "markdown",
   "metadata": {},
   "source": [
    "# Conclusion\n",
    "So, there we are! In our testing, we've seen that writing to SQL Server through the ODBC connection is substantially slower than e.g. Postgres. There are many ways to make this process faster, but here's the definitive rule of thumb when faced with this situation.\n",
    "\n",
    "> **Rule of thumb when writing to SQL Server from Pandas**: \n",
    "> \n",
    "> 1. If you can use `BULK INSERT`, do so\n",
    "> 2. Else, pass `fast_executemany=True` to your database engine object.\n"
   ]
  }
 ],
 "metadata": {
  "kernelspec": {
   "display_name": "Python 3",
   "language": "python",
   "name": "python3"
  },
  "language_info": {
   "codemirror_mode": {
    "name": "ipython",
    "version": 3
   },
   "file_extension": ".py",
   "mimetype": "text/x-python",
   "name": "python",
   "nbconvert_exporter": "python",
   "pygments_lexer": "ipython3",
   "version": "3.7.3"
  }
 },
 "nbformat": 4,
 "nbformat_minor": 2
}
